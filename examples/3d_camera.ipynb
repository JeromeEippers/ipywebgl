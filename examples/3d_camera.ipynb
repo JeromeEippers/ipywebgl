{
 "cells": [
  {
   "cell_type": "markdown",
   "id": "041cd708-05e7-4b90-ab87-99dba542907d",
   "metadata": {},
   "source": [
    "# Use the 3d camera\n",
    "By default the viewer will try to set the ViewProjection matrix on your shader for you, so you can navigate the view in 3d if you want.\n",
    "\n",
    "* By default the matrix will be sent as row major to the shader, but if you prefer you can work in column major.\n",
    "    * use : <code>w = ipywebgl.GLViewer(shader_matrix_major='column_major')</code> to be in column major.\n",
    "    * all the examples will be 'row_major' in this case."
   ]
  },
  {
   "cell_type": "markdown",
   "id": "a102c298-144c-44bf-9014-d5ad4a24c52d",
   "metadata": {},
   "source": [
    "### Import"
   ]
  },
  {
   "cell_type": "code",
   "execution_count": 1,
   "id": "fc7e01cc-9aed-483a-a3ea-482a48c3c3b3",
   "metadata": {},
   "outputs": [],
   "source": [
    "import ipywebgl\n",
    "import numpy as np"
   ]
  },
  {
   "cell_type": "markdown",
   "id": "72accf07-069b-4d1f-be73-8b40738832f1",
   "metadata": {},
   "source": [
    "### Create viewer\n",
    "And clear the color to make the background visible."
   ]
  },
  {
   "cell_type": "code",
   "execution_count": 2,
   "id": "fc058eb1-4e96-4552-b19d-c3d9e18725e6",
   "metadata": {},
   "outputs": [
    {
     "data": {
      "application/vnd.jupyter.widget-view+json": {
       "model_id": "88db3f4c396e4c20b70c4c4ebcaa80f5",
       "version_major": 2,
       "version_minor": 0
      },
      "text/plain": [
       "GLViewer(camera_pos=[0, 50, 200])"
      ]
     },
     "execution_count": 2,
     "metadata": {},
     "output_type": "execute_result"
    }
   ],
   "source": [
    "w = ipywebgl.GLViewer()\n",
    "w.clear_color(.8, .8, .8 ,1)\n",
    "w.clear()\n",
    "w.render()\n",
    "w"
   ]
  },
  {
   "cell_type": "markdown",
   "id": "e794f61f-3695-481d-881b-7b35e2e747e3",
   "metadata": {},
   "source": [
    "### Program\n",
    "Create a program that will display a grid on the ground. And use the Camera (ViewProjection) to rotate the view"
   ]
  },
  {
   "cell_type": "code",
   "execution_count": 3,
   "id": "4464b799-c36c-42dd-ad50-fdf284d398bd",
   "metadata": {},
   "outputs": [],
   "source": [
    "pr = w.create_program()\n",
    "pr.compile(\n",
    "\"\"\"#version 300 es\n",
    "\n",
    "uniform mat4 ViewProjection;\n",
    "in vec3 in_vert;\n",
    "\n",
    "void main() {\n",
    "    gl_Position = ViewProjection * vec4(in_vert, 1.0);\n",
    "}\n",
    "\"\"\"\n",
    ",\n",
    "\"\"\"#version 300 es\n",
    "precision highp float;\n",
    "out vec4 f_color;\n",
    "void main() {\n",
    "    f_color = vec4(0.1, 0.1, 0.1, 1.0);\n",
    "}\n",
    "\"\"\"\n",
    ")"
   ]
  },
  {
   "cell_type": "markdown",
   "id": "6e091852-72b0-45de-bb2f-d79cf90f33fd",
   "metadata": {},
   "source": [
    "### Grid vertex buffer\n",
    "Create a grid vertex array. By creating a set of lines horizontal and vertical."
   ]
  },
  {
   "cell_type": "code",
   "execution_count": 4,
   "id": "e33d4338-db5f-41ec-87b2-52874c5289c3",
   "metadata": {},
   "outputs": [],
   "source": [
    "def grid(size, steps):\n",
    "    u = np.repeat(np.linspace(-size, size, steps), 2)\n",
    "    v = np.tile([-size, size], steps)\n",
    "    w = np.zeros(steps * 2)\n",
    "    return np.concatenate([np.dstack([u, w, v]), np.dstack([v, w, u])])\n",
    "\n",
    "points = grid(100,20)\n",
    "\n",
    "buf = w.create_buffer()\n",
    "buf.update(src_data=np.array(\n",
    "    [ \n",
    "        points.flatten()\n",
    "    ], dtype=np.float32))\n",
    "vao = w.create_vertex_array()\n",
    "vao.bind(\n",
    "    pr, [\n",
    "        (buf, '3f32', 'in_vert')\n",
    "    ]\n",
    ")"
   ]
  },
  {
   "cell_type": "code",
   "execution_count": 5,
   "id": "39a75d9f-412f-453a-a540-584176266ae7",
   "metadata": {},
   "outputs": [
    {
     "data": {
      "text/plain": [
       "(80, 3)"
      ]
     },
     "execution_count": 5,
     "metadata": {},
     "output_type": "execute_result"
    }
   ],
   "source": [
    "#number of points in the buffer :\n",
    "points.reshape([-1,3]).shape"
   ]
  },
  {
   "cell_type": "markdown",
   "id": "5d21f5a9-7adb-4961-b446-32337ca7e5e8",
   "metadata": {},
   "source": [
    "### Render\n",
    "Render the view, you can now interact with the view with your mouse (left click and drag) to rotate and the 'wasd' keys to move\n",
    "\n",
    "* if you need to change the default keys:\n",
    "    * you can do it at init time with : <code>GLViewer(move_keys='ijkl')</code>\n",
    "    * or runtime with : <code>w.move_keys = 'ijkl'</code>\n",
    "\n",
    "Any letters can be used."
   ]
  },
  {
   "cell_type": "code",
   "execution_count": 6,
   "id": "74581a5c-5325-4ff7-a3ca-35c08bcf29b7",
   "metadata": {},
   "outputs": [
    {
     "data": {
      "application/vnd.jupyter.widget-view+json": {
       "model_id": "88db3f4c396e4c20b70c4c4ebcaa80f5",
       "version_major": 2,
       "version_minor": 0
      },
      "text/plain": [
       "GLViewer(camera_pos=[0, 50, 200])"
      ]
     },
     "execution_count": 6,
     "metadata": {},
     "output_type": "execute_result"
    }
   ],
   "source": [
    "w.clear()\n",
    "w.use_program(pr)\n",
    "w.bind_vertex_array(vao)\n",
    "w.draw_arrays('lines', 0, points.reshape([-1,3]).shape[0])\n",
    "w.render()\n",
    "w"
   ]
  },
  {
   "cell_type": "markdown",
   "id": "78f09907-7f25-4722-9df0-2e0476f42051",
   "metadata": {},
   "source": [
    "### Interact with the camera from python\n",
    "Let's set the camera values using the python code\n",
    "\n",
    "We can build a simple rotating camera control with an interact slider"
   ]
  },
  {
   "cell_type": "code",
   "execution_count": 7,
   "id": "d6e1636d-8d7d-4367-a182-c7ffedc3a43b",
   "metadata": {},
   "outputs": [
    {
     "data": {
      "text/plain": [
       "([0, 50, 200], 0.0, 0.0)"
      ]
     },
     "execution_count": 7,
     "metadata": {},
     "output_type": "execute_result"
    }
   ],
   "source": [
    "w.camera_pos, w.camera_pitch, w.camera_yaw"
   ]
  },
  {
   "cell_type": "code",
   "execution_count": 8,
   "id": "5f308f6c-c1ae-4ec9-8610-ea7795dee94a",
   "metadata": {},
   "outputs": [
    {
     "data": {
      "application/vnd.jupyter.widget-view+json": {
       "model_id": "a15403607ea44349ae35d1c1dbe6fbd0",
       "version_major": 2,
       "version_minor": 0
      },
      "text/plain": [
       "interactive(children=(IntSlider(value=0, description='angle', max=360), Output()), _dom_classes=('widget-inter…"
      ]
     },
     "metadata": {},
     "output_type": "display_data"
    },
    {
     "data": {
      "application/vnd.jupyter.widget-view+json": {
       "model_id": "88db3f4c396e4c20b70c4c4ebcaa80f5",
       "version_major": 2,
       "version_minor": 0
      },
      "text/plain": [
       "GLViewer(camera_pitch=-20.0, camera_pos=[0.0, 70, 200.0])"
      ]
     },
     "execution_count": 8,
     "metadata": {},
     "output_type": "execute_result"
    }
   ],
   "source": [
    "from ipywidgets import widgets, interact\n",
    "\n",
    "def set_camera(angle):\n",
    "    rad = angle/180.0*np.pi\n",
    "    w.camera_pos = [np.sin(rad)*200, 70, np.cos(rad)*200]\n",
    "    w.camera_yaw = angle\n",
    "    w.camera_pitch = -20\n",
    "    \n",
    "interact(\n",
    "    set_camera, \n",
    "    angle=widgets.IntSlider(min=0, max=360, step=1, value=0),\n",
    ")\n",
    "w"
   ]
  }
 ],
 "metadata": {
  "kernelspec": {
   "display_name": "Python 3 (ipykernel)",
   "language": "python",
   "name": "python3"
  },
  "language_info": {
   "codemirror_mode": {
    "name": "ipython",
    "version": 3
   },
   "file_extension": ".py",
   "mimetype": "text/x-python",
   "name": "python",
   "nbconvert_exporter": "python",
   "pygments_lexer": "ipython3",
   "version": "3.7.9"
  }
 },
 "nbformat": 4,
 "nbformat_minor": 5
}
