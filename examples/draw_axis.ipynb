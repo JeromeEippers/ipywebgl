{
 "cells": [
  {
   "cell_type": "code",
   "execution_count": 9,
   "id": "d8dc089e-6f77-45c2-b706-071f5e4d6113",
   "metadata": {},
   "outputs": [
    {
     "data": {
      "application/vnd.jupyter.widget-view+json": {
       "model_id": "bc1a8dac829e4b4294780bc2002b7774",
       "version_major": 2,
       "version_minor": 0
      },
      "text/plain": [
       "GLViewer(camera_pos=[0, 50, 200])"
      ]
     },
     "execution_count": 9,
     "metadata": {},
     "output_type": "execute_result"
    }
   ],
   "source": [
    "import ipywebgl\n",
    "import numpy as np\n",
    "\n",
    "w = ipywebgl.GLViewer()\n",
    "w.clear_color(.8, .8, .8 ,1)\n",
    "w.clear()\n",
    "w.enable(depth_test=True)\n",
    "w.execute_commands(execute_once=True)\n",
    "\n",
    "\n",
    "axis_prog = w.create_program_ext(\n",
    "'''#version 300 es\n",
    "    uniform mat4 ViewProjection;\n",
    "    uniform float u_scale;\n",
    "    in vec3 in_vert;\n",
    "    in vec3 in_color;\n",
    "    out vec3 v_color;    \n",
    "    void main() {\n",
    "        gl_Position = ViewProjection * vec4(in_vert * u_scale, 1.0);\n",
    "        v_color = in_color;\n",
    "    }\n",
    "''',\n",
    "'''#version 300 es\n",
    "    precision highp float;\n",
    "    in vec3 v_color;\n",
    "    out vec4 f_color;\n",
    "    void main() {\n",
    "        f_color = vec4(v_color, 1.0);\n",
    "    }\n",
    "''')\n",
    "\n",
    "axis_vbo = w.create_buffer_ext(\n",
    "    src_data= np.array([\n",
    "            # x, y ,z red, green, blue\n",
    "            0, 0, 0, 1, 0, 0,\n",
    "            1, 0, 0, 1, 0, 0,\n",
    "            0, 0, 0, 0, 1, 0,\n",
    "            0, 1, 0, 0, 1, 0,\n",
    "            0, 0, 0, 0, 0, 1,\n",
    "            0, 0, 1, 0, 0, 1,\n",
    "        ], dtype=np.float32)\n",
    ")\n",
    "\n",
    "axis_vao = w.create_vertex_array_ext(\n",
    "    axis_prog,\n",
    "    [\n",
    "        (axis_vbo, '3f32 3f32', 'in_vert', 'in_color'),\n",
    "    ]\n",
    ")\n",
    "\n",
    "w.clear()\n",
    "w.use_program(axis_prog)\n",
    "w.uniform('u_scale', np.array([10.0], dtype=np.float32))\n",
    "w.bind_vertex_array(axis_vao)\n",
    "w.draw_arrays('LINES', 0, 6)\n",
    "# render in loop if needed\n",
    "w.execute_commands()\n",
    "w"
   ]
  }
 ],
 "metadata": {
  "kernelspec": {
   "display_name": "Python 3 (ipykernel)",
   "language": "python",
   "name": "python3"
  },
  "language_info": {
   "codemirror_mode": {
    "name": "ipython",
    "version": 3
   },
   "file_extension": ".py",
   "mimetype": "text/x-python",
   "name": "python",
   "nbconvert_exporter": "python",
   "pygments_lexer": "ipython3",
   "version": "3.7.9"
  }
 },
 "nbformat": 4,
 "nbformat_minor": 5
}
