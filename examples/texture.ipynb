{
 "cells": [
  {
   "cell_type": "markdown",
   "id": "1900e456-ce10-4026-b7d8-d7534101e463",
   "metadata": {},
   "source": [
    "### Render a Texture\n",
    "\n",
    "In this example we will create a checkboard texture and display it on a plane on the gound"
   ]
  },
  {
   "cell_type": "code",
   "execution_count": 1,
   "id": "da42d9d1-0e68-4992-888d-7e455bc7d744",
   "metadata": {},
   "outputs": [],
   "source": [
    "import ipywebgl\n",
    "import numpy as np"
   ]
  },
  {
   "cell_type": "code",
   "execution_count": 2,
   "id": "e8060feb-a5bd-42a4-9b5b-d5a0056a9499",
   "metadata": {},
   "outputs": [],
   "source": [
    "w = ipywebgl.GLViewer()\n",
    "w.clear_color(.8, .8, .8 ,1)\n",
    "w.clear()\n",
    "w.execute_commands(execute_once=True)"
   ]
  },
  {
   "cell_type": "code",
   "execution_count": 3,
   "id": "298dc92e-dcb3-4a01-b4bc-668ebe230ab1",
   "metadata": {},
   "outputs": [],
   "source": [
    "program = w.create_program_ext(\n",
    "\"\"\"#version 300 es\n",
    "\n",
    "//the ViewBlock that is automatically filled by ipywebgl\n",
    "layout(std140) uniform ViewBlock\n",
    "{\n",
    "    mat4 u_cameraMatrix;          //the camera matrix in world space\n",
    "    mat4 u_viewMatrix;            //the inverse of the camera matrix\n",
    "    mat4 u_projectionMatrix;      //the projection matrix\n",
    "    mat4 u_viewProjectionMatrix;  //the projection * view matrix\n",
    "};\n",
    "\n",
    "in vec2 in_vert;\n",
    "in vec2 in_texcoord;\n",
    "out vec2 v_texcoord;\n",
    "void main() {\n",
    "   gl_Position = u_viewProjectionMatrix * vec4(in_vert.x, 0.0, in_vert.y, 1.0);\n",
    "   v_texcoord = in_texcoord;\n",
    "}\n",
    "\"\"\"\n",
    ",\n",
    "\"\"\"#version 300 es\n",
    "precision highp float;\n",
    "uniform sampler2D u_texture;\n",
    "in vec2 v_texcoord;\n",
    "out vec4 f_color;\n",
    "void main() {\n",
    "    f_color = texture(u_texture, v_texcoord);\n",
    "}\n",
    "\"\"\")\n"
   ]
  },
  {
   "cell_type": "code",
   "execution_count": 7,
   "id": "89501424-7d18-458d-8a24-8ea70c9a601a",
   "metadata": {},
   "outputs": [],
   "source": [
    "vbo = w.create_buffer_ext(\n",
    "    #x z u v\n",
    "    src_data=np.array([\n",
    "        -100, -100, 0, 10,\n",
    "        100, -100, 10, 10,\n",
    "        100, 100, 10, 0,\n",
    "        -100, 100, 0, 0,\n",
    "    ], dtype=np.float32)\n",
    ")\n",
    "\n",
    "vao = w.create_vertex_array_ext(\n",
    "    program,\n",
    "    [\n",
    "        (vbo, '2f32 2f32', 'in_vert', 'in_texcoord'),\n",
    "    ]\n",
    ")"
   ]
  },
  {
   "cell_type": "markdown",
   "id": "f8530b8f-2f6f-4bb0-af92-27078231fec7",
   "metadata": {},
   "source": [
    "### Create a 2 by 2 texture\n",
    "\n",
    "simple rbga 2 by 2 texture"
   ]
  },
  {
   "cell_type": "code",
   "execution_count": 5,
   "id": "1627ff03-6325-4157-9303-51b32d635ff0",
   "metadata": {},
   "outputs": [],
   "source": [
    "tex = w.create_texture()\n",
    "w.active_texture(0)\n",
    "w.bind_texture('TEXTURE_2D', tex)\n",
    "w.tex_image_2d('TEXTURE_2D', 0, 'RGBA', 2, 2, 0, 'RGBA', 'UNSIGNED_BYTE',\n",
    "              np.array([120,120,120,255, 180,180,180,255, 180,180,180,255, 120,120,120,255], dtype=np.uint8))\n",
    "w.execute_commands(execute_once=True)"
   ]
  },
  {
   "cell_type": "markdown",
   "id": "14710d60-64bf-4617-8763-d166913d4f93",
   "metadata": {},
   "source": [
    "Bind the texture with a repeat pattern, because our UV's are from 0 to 10 and not 0 to 1"
   ]
  },
  {
   "cell_type": "code",
   "execution_count": 8,
   "id": "32255537-8b15-42eb-b502-847b46288b6c",
   "metadata": {},
   "outputs": [
    {
     "data": {
      "application/vnd.jupyter.widget-view+json": {
       "model_id": "157cef0b52d147d9bce2cd1047e40c60",
       "version_major": 2,
       "version_minor": 0
      },
      "text/plain": [
       "GLViewer(camera_pitch=-26.2, camera_pos=[17.809647922495124, 27.95317454386815, 132.78695031297934], camera_ya…"
      ]
     },
     "execution_count": 8,
     "metadata": {},
     "output_type": "execute_result"
    }
   ],
   "source": [
    "w.clear()\n",
    "w.use_program(program)\n",
    "w.active_texture(0)\n",
    "w.bind_texture('TEXTURE_2D', tex)\n",
    "w.tex_parameter('TEXTURE_2D', 'TEXTURE_MAG_FILTER', 'NEAREST')\n",
    "w.tex_parameter('TEXTURE_2D', 'TEXTURE_MIN_FILTER', 'NEAREST')\n",
    "w.tex_parameter('TEXTURE_2D', 'TEXTURE_WRAP_S', 'REPEAT')\n",
    "w.tex_parameter('TEXTURE_2D', 'TEXTURE_WRAP_T', 'REPEAT')\n",
    "w.bind_vertex_array(vao)\n",
    "w.draw_arrays('TRIANGLE_FAN', 0, 4)\n",
    "w.execute_commands()\n",
    "w"
   ]
  },
  {
   "cell_type": "code",
   "execution_count": null,
   "id": "d211efee-ca09-40b6-a7c7-a1e987316275",
   "metadata": {},
   "outputs": [],
   "source": []
  }
 ],
 "metadata": {
  "kernelspec": {
   "display_name": "Python 3 (ipykernel)",
   "language": "python",
   "name": "python3"
  },
  "language_info": {
   "codemirror_mode": {
    "name": "ipython",
    "version": 3
   },
   "file_extension": ".py",
   "mimetype": "text/x-python",
   "name": "python",
   "nbconvert_exporter": "python",
   "pygments_lexer": "ipython3",
   "version": "3.7.9"
  }
 },
 "nbformat": 4,
 "nbformat_minor": 5
}
