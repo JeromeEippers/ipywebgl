{
 "cells": [
  {
   "cell_type": "markdown",
   "id": "01fcb4dc-36e6-4609-ae7c-268c2d73e97a",
   "metadata": {},
   "source": [
    "# Uniform Bool\n",
    "\n",
    "Little example showing how to use a uniform bool."
   ]
  },
  {
   "cell_type": "code",
   "execution_count": 1,
   "id": "143dc4fd-b85b-474b-9622-9385d9f91fc3",
   "metadata": {},
   "outputs": [],
   "source": [
    "import ipywebgl\n",
    "import numpy as np\n",
    "\n",
    "w = ipywebgl.GLViewer()\n",
    "w.clear_color(.8, .8, .8 ,1)\n",
    "w.clear()\n",
    "w.enable(depth_test=True)\n",
    "w.execute_commands(execute_once=True)"
   ]
  },
  {
   "cell_type": "markdown",
   "id": "956881e6-bf15-4ebb-afe2-94e5384f520c",
   "metadata": {},
   "source": [
    "## Programs\n",
    "\n",
    "create a frament shader that uses a uniform bool 'u_myBoolean'"
   ]
  },
  {
   "cell_type": "code",
   "execution_count": 2,
   "id": "5ef9ecac-05d6-4996-bc46-6e68c1e05227",
   "metadata": {},
   "outputs": [],
   "source": [
    "program = w.create_program_ext(\n",
    "\"\"\"#version 300 es\n",
    "\n",
    "    in vec2 in_position;\n",
    "\n",
    "    void main() {\n",
    "      gl_Position = vec4(in_position, 0, 1);\n",
    "    }\n",
    "\"\"\",\n",
    "\"\"\"#version 300 es\n",
    "    precision highp float;\n",
    "\n",
    "    out vec4 outColor;\n",
    "    \n",
    "    uniform bool u_myBoolean;\n",
    "\n",
    "    void main() {\n",
    "      if ( u_myBoolean == false ){\n",
    "          outColor = vec4(1, 0, 0.2, 1);\n",
    "      }\n",
    "      else{\n",
    "         outColor = vec4(0, 1, 0.2, 1);\n",
    "      }\n",
    "    }\n",
    "\"\"\")\n",
    "\n",
    "vbo = w.create_buffer_ext(\n",
    "    src_data= np.array([\n",
    "            0, 0,\n",
    "            0, 0.5,\n",
    "            0.7, 0,\n",
    "        ], dtype=np.float32)\n",
    ")\n",
    "\n",
    "vao = w.create_vertex_array_ext(\n",
    "    program,\n",
    "    [\n",
    "        (vbo, '2f32', 'in_position'),\n",
    "    ]\n",
    ")"
   ]
  },
  {
   "cell_type": "markdown",
   "id": "9d9cf599-e814-4190-af70-17da522d3d11",
   "metadata": {},
   "source": [
    "## Passing the boolean\n",
    "\n",
    "to pass a boolean to a uniform, we have to convert it to uint32 as there is no 'uniform bool' function in WebGL.  \n",
    "https://developer.mozilla.org/en-US/docs/Web/API/WebGL2RenderingContext/uniform"
   ]
  },
  {
   "cell_type": "code",
   "execution_count": 3,
   "id": "644551d2-f6db-4fa6-b233-2a7535c19c78",
   "metadata": {},
   "outputs": [
    {
     "data": {
      "application/vnd.jupyter.widget-view+json": {
       "model_id": "ab4d1eccdb25425f8e8144aff273c914",
       "version_major": 2,
       "version_minor": 0
      },
      "text/plain": [
       "interactive(children=(Checkbox(value=True, description='bool_value'), Output()), _dom_classes=('widget-interac…"
      ]
     },
     "metadata": {},
     "output_type": "display_data"
    },
    {
     "data": {
      "application/vnd.jupyter.widget-view+json": {
       "model_id": "ddafd5fc83d84928a32e556eb36a6c51",
       "version_major": 2,
       "version_minor": 0
      },
      "text/plain": [
       "GLViewer(camera_pos=[0, 50, 200])"
      ]
     },
     "execution_count": 3,
     "metadata": {},
     "output_type": "execute_result"
    }
   ],
   "source": [
    "from ipywidgets import widgets, interact\n",
    "\n",
    "def use_boolean(bool_value = True):\n",
    "    w.clear()\n",
    "    w.use_program(program)\n",
    "    w.uniform('u_myBoolean', np.asarray([bool_value], dtype=np.uint32))\n",
    "    w.bind_vertex_array(vao)\n",
    "    w.draw_arrays('TRIANGLES', 0, 3)\n",
    "    w.execute_commands()\n",
    "    \n",
    "interact(use_boolean)\n",
    "\n",
    "w"
   ]
  },
  {
   "cell_type": "markdown",
   "id": "4c372c91-c393-4d81-86a4-0ba9d63e5216",
   "metadata": {},
   "source": [
    "## Displaying the resources"
   ]
  },
  {
   "cell_type": "code",
   "execution_count": 4,
   "id": "ee0f479f-56ab-4f42-be78-554c8dc274e5",
   "metadata": {},
   "outputs": [
    {
     "name": "stdout",
     "output_type": "stream",
     "text": [
      "program\n"
     ]
    },
    {
     "data": {
      "application/vnd.jupyter.widget-view+json": {
       "model_id": "f6909236e04e4e2f91f95b3691252a1a",
       "version_major": 2,
       "version_minor": 0
      },
      "text/plain": [
       "GLResourceWidget(uid=2)"
      ]
     },
     "metadata": {},
     "output_type": "display_data"
    },
    {
     "name": "stdout",
     "output_type": "stream",
     "text": [
      "vbo\n"
     ]
    },
    {
     "data": {
      "application/vnd.jupyter.widget-view+json": {
       "model_id": "adc8370d43e74f8481f12df11aee6f80",
       "version_major": 2,
       "version_minor": 0
      },
      "text/plain": [
       "GLResourceWidget(uid=3)"
      ]
     },
     "metadata": {},
     "output_type": "display_data"
    },
    {
     "name": "stdout",
     "output_type": "stream",
     "text": [
      "vao\n"
     ]
    },
    {
     "data": {
      "application/vnd.jupyter.widget-view+json": {
       "model_id": "ba1ae392b5c44213ba97b2a6175c94cd",
       "version_major": 2,
       "version_minor": 0
      },
      "text/plain": [
       "GLResourceWidget(uid=4)"
      ]
     },
     "metadata": {},
     "output_type": "display_data"
    }
   ],
   "source": [
    "print(\"program\")\n",
    "display(program)\n",
    "print(\"vbo\")\n",
    "display(vbo)\n",
    "print(\"vao\")\n",
    "display(vao)"
   ]
  }
 ],
 "metadata": {
  "kernelspec": {
   "display_name": "Python 3 (ipykernel)",
   "language": "python",
   "name": "python3"
  },
  "language_info": {
   "codemirror_mode": {
    "name": "ipython",
    "version": 3
   },
   "file_extension": ".py",
   "mimetype": "text/x-python",
   "name": "python",
   "nbconvert_exporter": "python",
   "pygments_lexer": "ipython3",
   "version": "3.7.9"
  }
 },
 "nbformat": 4,
 "nbformat_minor": 5
}
