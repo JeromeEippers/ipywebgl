{
 "cells": [
  {
   "cell_type": "markdown",
   "id": "e8ce45b3-183e-404b-9c32-2e254b69a718",
   "metadata": {},
   "source": [
    "# Use the Extended method.\n",
    "\n",
    "We will quickly display a triangle using the extended method that combine several calls into one"
   ]
  },
  {
   "cell_type": "markdown",
   "id": "b0317acb-c805-4f01-a010-931442f71d8e",
   "metadata": {},
   "source": [
    "### Imports"
   ]
  },
  {
   "cell_type": "code",
   "execution_count": 1,
   "id": "80f8f7b7-2926-4784-8d79-94abb3f5c11b",
   "metadata": {},
   "outputs": [],
   "source": [
    "import ipywebgl\n",
    "import numpy as np"
   ]
  },
  {
   "cell_type": "markdown",
   "id": "15670429-2ea2-4ed4-8baa-b1900ceb4269",
   "metadata": {},
   "source": [
    "### Create the viewer\n",
    "And change the default color"
   ]
  },
  {
   "cell_type": "code",
   "execution_count": 2,
   "id": "dff4c7f6-89be-4e41-932d-b34d34ba742d",
   "metadata": {},
   "outputs": [],
   "source": [
    "w = ipywebgl.GLViewer()\n",
    "w.clear_color(.8, .8, .8 ,1)\n",
    "w.clear()\n",
    "w.execute_commands(execute_once=True)"
   ]
  },
  {
   "cell_type": "markdown",
   "id": "6185ef20-900f-46f3-9603-ed9b905f811f",
   "metadata": {},
   "source": [
    "### Create a program\n",
    "Using the create_program_ext we can directly give the vertex and fragment shader code."
   ]
  },
  {
   "cell_type": "code",
   "execution_count": 3,
   "id": "eb742cf7-fe3b-4bce-86ff-2c458db0273a",
   "metadata": {},
   "outputs": [
    {
     "data": {
      "application/vnd.jupyter.widget-view+json": {
       "model_id": "c59ed8c476964c919c8bfbc35ed7ae4b",
       "version_major": 2,
       "version_minor": 0
      },
      "text/plain": [
       "GLResourceWidget(uid=2)"
      ]
     },
     "execution_count": 3,
     "metadata": {},
     "output_type": "execute_result"
    }
   ],
   "source": [
    "program = w.create_program_ext(\n",
    "\"\"\"#version 300 es\n",
    "\n",
    "in vec4 in_position;\n",
    "\n",
    "void main() {\n",
    "gl_Position = in_position;\n",
    "}\n",
    "\"\"\",\n",
    "    \n",
    "\"\"\"#version 300 es\n",
    "precision highp float;\n",
    "\n",
    "out vec4 outColor;\n",
    " \n",
    "void main() {\n",
    "  outColor = vec4(1, 0, 0.5, 1);\n",
    "}\n",
    "\"\"\")\n",
    "program"
   ]
  },
  {
   "cell_type": "markdown",
   "id": "4536d108-f5e3-4502-aa88-f5614cea6e5e",
   "metadata": {},
   "source": [
    "### Create the VBO\n",
    "using the create_buffer_ext we can directly create, and set the data for the vertex buffer in one command"
   ]
  },
  {
   "cell_type": "code",
   "execution_count": 4,
   "id": "000dbfff-e2aa-4bae-95c1-9cacf964db44",
   "metadata": {},
   "outputs": [
    {
     "data": {
      "application/vnd.jupyter.widget-view+json": {
       "model_id": "b0a5280251ff4e89bdb3657bbadbd9fa",
       "version_major": 2,
       "version_minor": 0
      },
      "text/plain": [
       "GLResourceWidget(uid=3)"
      ]
     },
     "execution_count": 4,
     "metadata": {},
     "output_type": "execute_result"
    }
   ],
   "source": [
    "vbo = w.create_buffer_ext(\n",
    "    src_data=np.array(\n",
    "        [ 0, 0,\n",
    "          0, 0.5,\n",
    "          0.7, 0,\n",
    "        ], dtype=np.float32)\n",
    ")\n",
    "vbo"
   ]
  },
  {
   "cell_type": "markdown",
   "id": "014971d4-49b4-47a6-8fc3-c090f03e3fbe",
   "metadata": {},
   "source": [
    "### Vertex Array Ext\n",
    "Create a vertex array and bind the program and the buffer.\n",
    "\n",
    "* first argument is the program (can be None if we do not use the name of the attribute)\n",
    "* second argument is an array of tuple with\n",
    "    * the buffer\n",
    "    * description of the attribute binding\n",
    "        *supported values are ['1','2','3','4']['i8', 'i16', 'i32', 'u8', 'u16', 'u32', 'f16', 'f32']\n",
    "    * (n times) name of the n^th attribute in the program; or the location as an int if we know the location of the attribute)\n",
    "* third param is the data for an indices buffer (see indexed vertices example )"
   ]
  },
  {
   "cell_type": "code",
   "execution_count": 5,
   "id": "18499404-1510-41e8-b311-985bc92b6a7b",
   "metadata": {},
   "outputs": [
    {
     "data": {
      "application/vnd.jupyter.widget-view+json": {
       "model_id": "45f0295ef9494147b337b00293b749f3",
       "version_major": 2,
       "version_minor": 0
      },
      "text/plain": [
       "GLResourceWidget(uid=4)"
      ]
     },
     "execution_count": 5,
     "metadata": {},
     "output_type": "execute_result"
    }
   ],
   "source": [
    "vao = w.create_vertex_array_ext(\n",
    "    program,\n",
    "    [\n",
    "        (vbo, '2f32', 'in_position'),\n",
    "    ]\n",
    ")\n",
    "vao"
   ]
  },
  {
   "cell_type": "markdown",
   "id": "3c615c9e-1558-44ce-b664-0c14c45a24a6",
   "metadata": {},
   "source": [
    "### Render\n",
    "\n",
    "render the triangle and display the widget"
   ]
  },
  {
   "cell_type": "code",
   "execution_count": 6,
   "id": "21181c39-7e9b-4799-9472-0875afa86b11",
   "metadata": {},
   "outputs": [
    {
     "data": {
      "application/vnd.jupyter.widget-view+json": {
       "model_id": "30496af58b6b4ade982ce7dab5074281",
       "version_major": 2,
       "version_minor": 0
      },
      "text/plain": [
       "GLViewer(camera_pos=[0, 50, 200])"
      ]
     },
     "execution_count": 6,
     "metadata": {},
     "output_type": "execute_result"
    }
   ],
   "source": [
    "w.clear()\n",
    "\n",
    "w.use_program(program)\n",
    "w.bind_vertex_array(vao)\n",
    "w.draw_arrays('TRIANGLES', 0, 3)\n",
    "\n",
    "# render in loop if needed\n",
    "w.execute_commands()\n",
    "w"
   ]
  },
  {
   "cell_type": "code",
   "execution_count": null,
   "id": "0d628f31-7b65-4352-af6d-4d749f33648f",
   "metadata": {},
   "outputs": [],
   "source": []
  }
 ],
 "metadata": {
  "kernelspec": {
   "display_name": "Python 3 (ipykernel)",
   "language": "python",
   "name": "python3"
  },
  "language_info": {
   "codemirror_mode": {
    "name": "ipython",
    "version": 3
   },
   "file_extension": ".py",
   "mimetype": "text/x-python",
   "name": "python",
   "nbconvert_exporter": "python",
   "pygments_lexer": "ipython3",
   "version": "3.7.9"
  }
 },
 "nbformat": 4,
 "nbformat_minor": 5
}
