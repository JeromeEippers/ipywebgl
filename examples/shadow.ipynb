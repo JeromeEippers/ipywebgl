{
 "cells": [
  {
   "cell_type": "code",
   "execution_count": 1,
   "id": "f1820295-3fff-4ff3-8c0a-30270ffcf017",
   "metadata": {},
   "outputs": [],
   "source": [
    "import ipywebgl\n",
    "import numpy as np"
   ]
  },
  {
   "cell_type": "code",
   "execution_count": 2,
   "id": "d13bee9d-9362-4d32-a87c-ef3a0cb2ab5b",
   "metadata": {},
   "outputs": [],
   "source": [
    "w = ipywebgl.GLViewer()\n",
    "w.clear_color(.8, .8, .8 ,1)\n",
    "w.clear()\n",
    "w.execute_commands(execute_once=True)"
   ]
  },
  {
   "cell_type": "code",
   "execution_count": 4,
   "id": "66fa40d8-1f49-4be0-ae29-815727d53ad8",
   "metadata": {},
   "outputs": [
    {
     "data": {
      "application/vnd.jupyter.widget-view+json": {
       "model_id": "b6b07e70f4284a1ea5a5ee3f355cdfaf",
       "version_major": 2,
       "version_minor": 0
      },
      "text/plain": [
       "GLResourceWidget(uid=1)"
      ]
     },
     "execution_count": 4,
     "metadata": {},
     "output_type": "execute_result"
    }
   ],
   "source": [
    "fb = w.create_framebuffer()\n",
    "w.execute_commands(execute_once=True)\n",
    "fb"
   ]
  },
  {
   "cell_type": "code",
   "execution_count": null,
   "id": "9c32f5ea-e441-4d56-8ad3-1e91a02d597a",
   "metadata": {},
   "outputs": [],
   "source": [
    "## TODO"
   ]
  }
 ],
 "metadata": {
  "kernelspec": {
   "display_name": "Python 3 (ipykernel)",
   "language": "python",
   "name": "python3"
  },
  "language_info": {
   "codemirror_mode": {
    "name": "ipython",
    "version": 3
   },
   "file_extension": ".py",
   "mimetype": "text/x-python",
   "name": "python",
   "nbconvert_exporter": "python",
   "pygments_lexer": "ipython3",
   "version": "3.7.9"
  }
 },
 "nbformat": 4,
 "nbformat_minor": 5
}
