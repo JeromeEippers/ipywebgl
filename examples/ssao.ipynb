{
 "cells": [
  {
   "cell_type": "code",
   "execution_count": 1,
   "id": "a2d10693-fe42-4394-b6eb-fc63e64e3623",
   "metadata": {},
   "outputs": [],
   "source": [
    "import ipywebgl\n",
    "import numpy as np"
   ]
  },
  {
   "cell_type": "code",
   "execution_count": 2,
   "id": "40020eb0-43aa-4ba7-bc11-46b9eb523f59",
   "metadata": {},
   "outputs": [],
   "source": [
    "w = ipywebgl.GLViewer()\n",
    "w.clear_color(.8, .8, .8 ,1)\n",
    "w.clear()\n",
    "w.enable(depth_test=True)\n",
    "w.execute_commands(execute_once=True)"
   ]
  },
  {
   "cell_type": "code",
   "execution_count": 3,
   "id": "b0e2a35c-eaad-44dd-8a15-7a3bdc200fdb",
   "metadata": {},
   "outputs": [],
   "source": [
    "# Multi render target setup for the scene\n",
    "\n",
    "color_geo_buffer = w.create_framebuffer()\n",
    "w.bind_framebuffer('FRAMEBUFFER', color_geo_buffer)\n",
    "w.active_texture(0)\n",
    "\n",
    "color_target = w.create_texture()\n",
    "w.bind_texture('TEXTURE_2D', color_target)\n",
    "w.tex_parameter('TEXTURE_2D', 'TEXTURE_MAG_FILTER', 'NEAREST')\n",
    "w.tex_parameter('TEXTURE_2D', 'TEXTURE_MIN_FILTER', 'NEAREST')\n",
    "w.tex_parameter('TEXTURE_2D', 'TEXTURE_WRAP_S', 'CLAMP_TO_EDGE')\n",
    "w.tex_parameter('TEXTURE_2D', 'TEXTURE_WRAP_T', 'CLAMP_TO_EDGE')\n",
    "w.tex_storage_2d('TEXTURE_2D', 1, 'RGBA8', w.width, w.height)\n",
    "w.framebuffer_texture_2d('FRAMEBUFFER', 'COLOR_ATTACHMENT0', 'TEXTURE_2D', color_target, 0)\n",
    "\n",
    "position_target = w.create_texture()\n",
    "w.bind_texture('TEXTURE_2D', position_target)\n",
    "w.tex_parameter('TEXTURE_2D', 'TEXTURE_MAG_FILTER', 'NEAREST')\n",
    "w.tex_parameter('TEXTURE_2D', 'TEXTURE_MIN_FILTER', 'NEAREST')\n",
    "w.tex_parameter('TEXTURE_2D', 'TEXTURE_WRAP_S', 'CLAMP_TO_EDGE')\n",
    "w.tex_parameter('TEXTURE_2D', 'TEXTURE_WRAP_T', 'CLAMP_TO_EDGE')\n",
    "w.tex_storage_2d('TEXTURE_2D', 1, 'RGBA16F', w.width, w.height)\n",
    "w.framebuffer_texture_2d('FRAMEBUFFER', 'COLOR_ATTACHMENT1', 'TEXTURE_2D', position_target, 0)\n",
    "\n",
    "normal_target = w.create_texture()\n",
    "w.bind_texture('TEXTURE_2D', normal_target)\n",
    "w.tex_parameter('TEXTURE_2D', 'TEXTURE_MAG_FILTER', 'NEAREST')\n",
    "w.tex_parameter('TEXTURE_2D', 'TEXTURE_MIN_FILTER', 'NEAREST')\n",
    "w.tex_parameter('TEXTURE_2D', 'TEXTURE_WRAP_S', 'CLAMP_TO_EDGE')\n",
    "w.tex_parameter('TEXTURE_2D', 'TEXTURE_WRAP_T', 'CLAMP_TO_EDGE')\n",
    "w.tex_storage_2d('TEXTURE_2D', 1, 'RGBA16F', w.width, w.height)\n",
    "w.framebuffer_texture_2d('FRAMEBUFFER', 'COLOR_ATTACHMENT2', 'TEXTURE_2D', normal_target, 0)\n",
    "\n",
    "depth_target = w.create_texture()\n",
    "w.bind_texture('TEXTURE_2D', depth_target)\n",
    "w.tex_parameter('TEXTURE_2D', 'TEXTURE_MAG_FILTER', 'NEAREST')\n",
    "w.tex_parameter('TEXTURE_2D', 'TEXTURE_MIN_FILTER', 'NEAREST')\n",
    "w.tex_parameter('TEXTURE_2D', 'TEXTURE_WRAP_S', 'CLAMP_TO_EDGE')\n",
    "w.tex_parameter('TEXTURE_2D', 'TEXTURE_WRAP_T', 'CLAMP_TO_EDGE')\n",
    "w.tex_storage_2d('TEXTURE_2D', 1, 'DEPTH_COMPONENT16', w.width, w.height)\n",
    "w.framebuffer_texture_2d('FRAMEBUFFER', 'DEPTH_ATTACHMENT', 'TEXTURE_2D', depth_target, 0)\n",
    "\n",
    "w.draw_buffers(['COLOR_ATTACHMENT0', 'COLOR_ATTACHMENT1', 'COLOR_ATTACHMENT2'])\n",
    "\n",
    "\n",
    "# ssao render target\n",
    "\n",
    "occlusion_buffer = w.create_framebuffer()\n",
    "w.bind_framebuffer('FRAMEBUFFER', occlusion_buffer)\n",
    "\n",
    "occlusion_target = w.create_texture()\n",
    "w.bind_texture('TEXTURE_2D', occlusion_target)\n",
    "w.tex_parameter('TEXTURE_2D', 'TEXTURE_MAG_FILTER', 'NEAREST')\n",
    "w.tex_parameter('TEXTURE_2D', 'TEXTURE_MIN_FILTER', 'NEAREST')\n",
    "w.tex_parameter('TEXTURE_2D', 'TEXTURE_WRAP_S', 'CLAMP_TO_EDGE')\n",
    "w.tex_parameter('TEXTURE_2D', 'TEXTURE_WRAP_T', 'CLAMP_TO_EDGE')\n",
    "w.tex_storage_2d('TEXTURE_2D', 1, 'RGBA8', w.width, w.height)\n",
    "w.framebuffer_texture_2d('FRAMEBUFFER', 'COLOR_ATTACHMENT0', 'TEXTURE_2D', occlusion_target, 0)\n",
    "\n",
    "w.bind_framebuffer('FRAMEBUFFER', None)\n",
    "\n"
   ]
  }
 ],
 "metadata": {
  "kernelspec": {
   "display_name": "Python 3 (ipykernel)",
   "language": "python",
   "name": "python3"
  },
  "language_info": {
   "codemirror_mode": {
    "name": "ipython",
    "version": 3
   },
   "file_extension": ".py",
   "mimetype": "text/x-python",
   "name": "python",
   "nbconvert_exporter": "python",
   "pygments_lexer": "ipython3",
   "version": "3.7.9"
  }
 },
 "nbformat": 4,
 "nbformat_minor": 5
}
