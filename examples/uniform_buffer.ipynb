{
 "cells": [
  {
   "cell_type": "code",
   "execution_count": 9,
   "id": "424af807-b18f-4709-aea0-9b06cfad85f3",
   "metadata": {},
   "outputs": [],
   "source": [
    "import ipywebgl\n",
    "import numpy as np"
   ]
  },
  {
   "cell_type": "code",
   "execution_count": 10,
   "id": "c1a564ea-f57e-41a9-89ea-37f50f7c4b45",
   "metadata": {},
   "outputs": [],
   "source": [
    "w = ipywebgl.GLViewer()\n",
    "w.clear_color(.8, .8, .8 ,1)\n",
    "w.clear()\n",
    "w.execute_commands(execute_once=True)"
   ]
  },
  {
   "cell_type": "code",
   "execution_count": 11,
   "id": "9e316176-5391-43e4-9b99-a27fe494c230",
   "metadata": {},
   "outputs": [
    {
     "data": {
      "application/vnd.jupyter.widget-view+json": {
       "model_id": "9f956edafd8144d59e88984991511a30",
       "version_major": 2,
       "version_minor": 0
      },
      "text/plain": [
       "GLResourceWidget(uid=2)"
      ]
     },
     "execution_count": 11,
     "metadata": {},
     "output_type": "execute_result"
    }
   ],
   "source": [
    "program = w.create_program_ext(\n",
    "\"\"\"#version 300 es\n",
    "\n",
    "uniform UData {\n",
    "  float u_scale;\n",
    "  vec2 u_position;\n",
    "};\n",
    "\n",
    "in vec4 in_position;\n",
    "\n",
    "void main() {\n",
    "    gl_Position = vec4((in_position.xy * u_scale) + u_position, in_position.zw);\n",
    "}\n",
    "\"\"\",\n",
    "    \n",
    "\"\"\"#version 300 es\n",
    "precision highp float;\n",
    "\n",
    "out vec4 outColor;\n",
    " \n",
    "void main() {\n",
    "  outColor = vec4(1, 0, 0.5, 1);\n",
    "}\n",
    "\"\"\")\n",
    "program"
   ]
  },
  {
   "cell_type": "code",
   "execution_count": 12,
   "id": "919ebebd-3a89-4e33-9600-d222a70e6af8",
   "metadata": {},
   "outputs": [],
   "source": [
    "vbo = w.create_buffer_ext(\n",
    "    src_data=np.array(\n",
    "        [ 0, 0,\n",
    "          0, 0.5,\n",
    "          0.7, 0,\n",
    "        ], dtype=np.float32)\n",
    ")\n",
    "\n",
    "vao = w.create_vertex_array_ext(\n",
    "    program,\n",
    "    [\n",
    "        (vbo, '2f32', 'in_position'),\n",
    "    ]\n",
    ")"
   ]
  },
  {
   "cell_type": "code",
   "execution_count": 18,
   "id": "8d173e64-190b-4bee-9ace-5074eaf49567",
   "metadata": {},
   "outputs": [
    {
     "data": {
      "application/vnd.jupyter.widget-view+json": {
       "model_id": "71a42a7096be4b1d9ba7bf8359a768ff",
       "version_major": 2,
       "version_minor": 0
      },
      "text/plain": [
       "GLResourceWidget(uid=7)"
      ]
     },
     "execution_count": 18,
     "metadata": {},
     "output_type": "execute_result"
    }
   ],
   "source": [
    "ubo = w.create_uniform_buffer_ext(program, 'UData', 'DYNAMIC_DRAW')\n",
    "ubo"
   ]
  },
  {
   "cell_type": "code",
   "execution_count": 20,
   "id": "723e722e-48e7-491e-b14f-62160f0c30bb",
   "metadata": {},
   "outputs": [],
   "source": [
    "# bind to buffer array 1 because 0 is used by the ipywebgl\n",
    "w.bind_buffer_base('UNIFORM_BUFFER', 1, ubo)\n",
    "\n",
    "# and link the buffer to the program\n",
    "w.uniform_block_binding(program, 'UData', 1)\n",
    "\n",
    "w.execute_commands(execute_once=True)"
   ]
  },
  {
   "cell_type": "code",
   "execution_count": 23,
   "id": "f01f2296-1766-4b6d-ba45-b6a7f5d8a0ed",
   "metadata": {},
   "outputs": [],
   "source": [
    "# update the buffer data\n",
    "w.bind_buffer('UNIFORM_BUFFER', ubo)\n",
    "w.buffer_sub_data('UNIFORM_BUFFER', 'u_scale', np.array([2], dtype=np.float32), 0)\n",
    "w.buffer_sub_data('UNIFORM_BUFFER', 'u_position', np.array([-0.5, 0.1], dtype=np.float32), 0)\n",
    "w.bind_buffer('UNIFORM_BUFFER', None)\n",
    "\n",
    "w.execute_commands(execute_once=True)"
   ]
  },
  {
   "cell_type": "code",
   "execution_count": 24,
   "id": "5c5a60d8-a384-454c-97a3-f09dc094db1d",
   "metadata": {},
   "outputs": [
    {
     "data": {
      "application/vnd.jupyter.widget-view+json": {
       "model_id": "de18a7591bd948b28bfaa0c538a133b9",
       "version_major": 2,
       "version_minor": 0
      },
      "text/plain": [
       "GLViewer(camera_pos=[0, 50, 200])"
      ]
     },
     "execution_count": 24,
     "metadata": {},
     "output_type": "execute_result"
    }
   ],
   "source": [
    "w.clear()\n",
    "\n",
    "w.use_program(program)\n",
    "w.bind_vertex_array(vao)\n",
    "w.draw_arrays('TRIANGLES', 0, 3)\n",
    "\n",
    "# render in loop if needed\n",
    "w.execute_commands()\n",
    "w"
   ]
  }
 ],
 "metadata": {
  "kernelspec": {
   "display_name": "Python 3 (ipykernel)",
   "language": "python",
   "name": "python3"
  },
  "language_info": {
   "codemirror_mode": {
    "name": "ipython",
    "version": 3
   },
   "file_extension": ".py",
   "mimetype": "text/x-python",
   "name": "python",
   "nbconvert_exporter": "python",
   "pygments_lexer": "ipython3",
   "version": "3.7.9"
  }
 },
 "nbformat": 4,
 "nbformat_minor": 5
}
