{
 "cells": [
  {
   "cell_type": "markdown",
   "id": "07bcb2fd-b4ad-4290-bd09-e8d7408359f8",
   "metadata": {},
   "source": [
    "# Get the rendered image as numpy array\n",
    "A quick example on how to render a scene and read back the pixel."
   ]
  },
  {
   "cell_type": "code",
   "execution_count": 1,
   "id": "5ad839d4-0e26-4e6c-b852-305988065ffc",
   "metadata": {},
   "outputs": [],
   "source": [
    "import ipywebgl\n",
    "import numpy as np\n",
    "\n",
    "# prepare the scene as usual\n",
    "\n",
    "w = ipywebgl.GLViewer()\n",
    "w.clear_color(.8, .8, .8 ,1)\n",
    "w.clear()\n",
    "w.enable(depth_test=True)\n",
    "w.execute_commands(execute_once=True)\n",
    "\n",
    "\n",
    "axis_prog = w.create_program_ext(\n",
    "'''#version 300 es\n",
    "    //the ViewBlock that is automatically filled by ipywebgl\n",
    "    layout(std140) uniform ViewBlock\n",
    "    {\n",
    "        mat4 u_cameraMatrix;          //the camera matrix in world space\n",
    "        mat4 u_viewMatrix;            //the inverse of the camera matrix\n",
    "        mat4 u_projectionMatrix;      //the projection matrix\n",
    "        mat4 u_viewProjectionMatrix;  //the projection * view matrix\n",
    "    };\n",
    "\n",
    "    uniform float u_scale;\n",
    "    in vec3 in_vert;\n",
    "    in vec3 in_color;\n",
    "    out vec3 v_color;    \n",
    "    void main() {\n",
    "        gl_Position = u_viewProjectionMatrix * vec4(in_vert * u_scale, 1.0);\n",
    "        v_color = in_color;\n",
    "    }\n",
    "''',\n",
    "'''#version 300 es\n",
    "    precision highp float;\n",
    "    in vec3 v_color;\n",
    "    out vec4 f_color;\n",
    "    void main() {\n",
    "        f_color = vec4(v_color, 1.0);\n",
    "    }\n",
    "''')\n",
    "\n",
    "axis_vbo = w.create_buffer_ext(\n",
    "    src_data= np.array([\n",
    "            # x, y ,z red, green, blue\n",
    "            0, 0, 0, 1, 0, 0,\n",
    "            5, 0, 0, 1, 0, 0,\n",
    "            0, 0, 0, 0, 1, 0,\n",
    "            0, 5, 0, 0, 1, 0,\n",
    "            0, 0, 0, 0, 0, 1,\n",
    "            0, 0, 5, 0, 0, 1,\n",
    "        ], dtype=np.float32)\n",
    ")\n",
    "\n",
    "axis_vao = w.create_vertex_array_ext(\n",
    "    axis_prog,\n",
    "    [\n",
    "        (axis_vbo, '3f32 3f32', 'in_vert', 'in_color'),\n",
    "    ]\n",
    ")\n",
    "\n",
    "# from here we can request to sync the rendering with the image_data\n",
    "w.sync_image_data = True\n",
    "\n",
    "w.clear()\n",
    "w.use_program(axis_prog)\n",
    "w.uniform('u_scale', np.array([10.0], dtype=np.float32))\n",
    "w.bind_vertex_array(axis_vao)\n",
    "w.draw_arrays('LINES', 0, 6)\n",
    "\n",
    "# render\n",
    "w.execute_commands(execute_once=True)\n",
    "\n",
    "    \n",
    "# we do not need to display the widgets, but we need to execute this cell first before getting the result\n"
   ]
  },
  {
   "cell_type": "markdown",
   "id": "bc36058a-e636-4ad9-bd00-c9ba6e722039",
   "metadata": {},
   "source": [
    "## Read the image data\n",
    "\n",
    "To read the image data we need to execute the previous cell.  \n",
    "Only when the previous cell has been executed and the control has been given back to Jupyter can we execute the next cell"
   ]
  },
  {
   "cell_type": "code",
   "execution_count": 2,
   "id": "f257b28c-ad12-42d3-b094-8c359bba9580",
   "metadata": {},
   "outputs": [
    {
     "data": {
      "text/plain": [
       "(480, 640, 4)"
      ]
     },
     "metadata": {},
     "output_type": "display_data"
    },
    {
     "data": {
      "text/plain": [
       "<matplotlib.image.AxesImage at 0x1beb95c4dc8>"
      ]
     },
     "execution_count": 2,
     "metadata": {},
     "output_type": "execute_result"
    },
    {
     "data": {
      "image/png": "[encoded data removed]",
      "text/plain": [
       "<Figure size 640x480 with 1 Axes>"
      ]
     },
     "metadata": {},
     "output_type": "display_data"
    }
   ],
   "source": [
    "from matplotlib import pyplot as plt\n",
    "\n",
    "img = w.get_image_data()\n",
    "\n",
    "display(img.shape)\n",
    "plt.imshow(img)"
   ]
  },
  {
   "cell_type": "markdown",
   "id": "569f7f11-07ec-4be2-a30c-d923053b093f",
   "metadata": {},
   "source": [
    "## Execute in a loop\n",
    "\n",
    "To execute in a loop we need to do it inside a ipywidget like a PlayWidget. So every frame the image_data is updated.  \n",
    "\n",
    "<b>Warning :</b> you cannot get the image you just computed, you can only get the image computed the previous frame.  \n",
    "If we try to execute this inside a normal python loop, the control is not given back to python and the image_data is not updated."
   ]
  },
  {
   "cell_type": "code",
   "execution_count": 3,
   "id": "13593f9f-2397-41a5-8252-2cb4cfd094ec",
   "metadata": {},
   "outputs": [
    {
     "data": {
      "application/vnd.jupyter.widget-view+json": {
       "model_id": "dece112bcbd04344bd08d30d236c5245",
       "version_major": 2,
       "version_minor": 0
      },
      "text/plain": [
       "interactive(children=(Play(value=0, description='play', interval=50, max=50), Output()), _dom_classes=('widget…"
      ]
     },
     "metadata": {},
     "output_type": "display_data"
    },
    {
     "data": {
      "text/plain": [
       "<function __main__.render(p)>"
      ]
     },
     "execution_count": 3,
     "metadata": {},
     "output_type": "execute_result"
    }
   ],
   "source": [
    "from ipywidgets import widgets, interact, Output\n",
    "\n",
    "w.sync_image_data = True\n",
    "\n",
    "def render(p):\n",
    "\n",
    "    # get image (from the previous frame)\n",
    "    if p > 0:\n",
    "        plt.imshow(w.get_image_data())\n",
    "        plt.title(f'Frame: {p-1}')\n",
    "        plt.show()\n",
    "    \n",
    "    w.clear_color(p/50, .8, .8 ,1)\n",
    "    w.clear()\n",
    "    w.use_program(axis_prog)\n",
    "    w.uniform('u_scale', np.array([p+1], dtype=np.float32))\n",
    "    w.bind_vertex_array(axis_vao)\n",
    "    w.draw_arrays('LINES', 0, 6)\n",
    "\n",
    "    # render\n",
    "    w.execute_commands(execute_once=True)\n",
    "    \n",
    "play = widgets.Play(\n",
    "    value=0,\n",
    "    min=0,\n",
    "    max=50,\n",
    "    step=1,\n",
    "    interval=50,\n",
    "    description=\"play\",\n",
    "    disabled=False\n",
    ")\n",
    "\n",
    "interact(render, p=play)\n"
   ]
  },
  {
   "cell_type": "markdown",
   "id": "8165514c-661e-42ca-8841-813b7c305a8b",
   "metadata": {},
   "source": [
    "## Using observer to get the result in the same cell\n",
    "\n",
    "If you want to get the result of the computed value directly in the same cell, you can use the observer method.\n",
    "\n",
    "<b>Warning :</b> even with this method you need to use a PlayWidget, as a normal loop will not execute the observer neither."
   ]
  },
  {
   "cell_type": "code",
   "execution_count": 4,
   "id": "ae5d7a38-9f61-40ab-b3ec-ecb0fd2a7972",
   "metadata": {},
   "outputs": [
    {
     "data": {
      "application/vnd.jupyter.widget-view+json": {
       "model_id": "f9e1c83b47d1456c965ea23c014dafad",
       "version_major": 2,
       "version_minor": 0
      },
      "text/plain": [
       "Output()"
      ]
     },
     "execution_count": 4,
     "metadata": {},
     "output_type": "execute_result"
    }
   ],
   "source": [
    "#create an output to display async data\n",
    "out = Output()\n",
    "\n",
    "# add an observer to the widget\n",
    "def get_image(change):\n",
    "    img = w.get_image_data()\n",
    "    \n",
    "    # do what you want with it\n",
    "    with out:\n",
    "        display(('read image_data :', img.shape))\n",
    "    \n",
    "\n",
    "# Listen to changes on the image_data and get_image when it changes.\n",
    "w.observe(get_image, \"image_data\")\n",
    "\n",
    "# execute rendering\n",
    "w.clear_color(.8, .8, .8 ,1)\n",
    "w.clear()\n",
    "w.use_program(axis_prog)\n",
    "w.uniform('u_scale', np.array([10], dtype=np.float32))\n",
    "w.bind_vertex_array(axis_vao)\n",
    "w.draw_arrays('LINES', 0, 6)\n",
    "\n",
    "# render\n",
    "w.execute_commands(execute_once=True)\n",
    "\n",
    "#display output\n",
    "out"
   ]
  },
  {
   "cell_type": "markdown",
   "id": "6b0f5d54-907f-43b2-ba43-c159eade0675",
   "metadata": {},
   "source": [
    "### Remove the observer"
   ]
  },
  {
   "cell_type": "code",
   "execution_count": 5,
   "id": "f205eefb-855a-413d-a6cf-d9ef1c5bfc5a",
   "metadata": {},
   "outputs": [],
   "source": [
    "w.unobserve(get_image, \"image_data\")"
   ]
  }
 ],
 "metadata": {
  "kernelspec": {
   "display_name": "Python 3 (ipykernel)",
   "language": "python",
   "name": "python3"
  },
  "language_info": {
   "codemirror_mode": {
    "name": "ipython",
    "version": 3
   },
   "file_extension": ".py",
   "mimetype": "text/x-python",
   "name": "python",
   "nbconvert_exporter": "python",
   "pygments_lexer": "ipython3",
   "version": "3.7.9"
  }
 },
 "nbformat": 4,
 "nbformat_minor": 5
}
