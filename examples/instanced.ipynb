{
 "cells": [
  {
   "cell_type": "code",
   "execution_count": 1,
   "id": "df24e242-f9b4-40ca-8dd4-50dd8b90c73b",
   "metadata": {
    "tags": []
   },
   "outputs": [
    {
     "data": {
      "application/vnd.jupyter.widget-view+json": {
       "model_id": "5298f03d780a4720aa01f92581d4def8",
       "version_major": 2,
       "version_minor": 0
      },
      "text/plain": [
       "GLViewer(camera_pos=[0, 50, 200])"
      ]
     },
     "execution_count": 1,
     "metadata": {},
     "output_type": "execute_result"
    }
   ],
   "source": [
    "import ipywebgl\n",
    "import numpy as np\n",
    "\n",
    "w = ipywebgl.GLViewer()\n",
    "w.clear_color(.8, .8, .8 ,1)\n",
    "w.clear()\n",
    "w.enable(depth_test=True)\n",
    "w.execute_commands(execute_once=True)\n",
    "\n",
    "\n",
    "axis_prog = w.create_program_ext(\n",
    "'''#version 300 es\n",
    "    //the ViewBlock that is automatically filled by ipywebgl\n",
    "    layout(std140) uniform ViewBlock\n",
    "    {\n",
    "        mat4 u_cameraMatrix;          //the camera matrix in world space\n",
    "        mat4 u_viewMatrix;            //the inverse of the camera matrix\n",
    "        mat4 u_projectionMatrix;      //the projection matrix\n",
    "        mat4 u_viewProjectionMatrix;  //the projection * view matrix\n",
    "    };\n",
    "\n",
    "    uniform float u_scale;\n",
    "    in vec3 in_vert;\n",
    "    in vec3 in_color;\n",
    "    in mat4 in_world;\n",
    "    out vec3 v_color;    \n",
    "    void main() {\n",
    "        vec4 world =  in_world * vec4(in_vert * u_scale, 1.0);\n",
    "        gl_Position = u_viewProjectionMatrix * world;\n",
    "        v_color = in_color;\n",
    "    }\n",
    "''',\n",
    "'''#version 300 es\n",
    "    precision highp float;\n",
    "    in vec3 v_color;\n",
    "    out vec4 f_color;\n",
    "    void main() {\n",
    "        f_color = vec4(v_color, 1.0);\n",
    "    }\n",
    "''',\n",
    "    \n",
    "    # let's force the order of the inputs\n",
    "    # in_world is a matrix so it takes 4 consecutives attributes (0,1,2,3)\n",
    "    {\n",
    "        'in_world' : 0,\n",
    "        'in_vert' : 4,\n",
    "        'in_color' : 5,\n",
    "    })\n",
    "\n",
    "axis_vbo = w.create_buffer_ext(\n",
    "    src_data= np.array([\n",
    "            # x, y ,z red, green, blue\n",
    "            0, 0, 0, 1, 0, 0,\n",
    "            1, 0, 0, 1, 0, 0,\n",
    "            0, 0, 0, 0, 1, 0,\n",
    "            0, 1, 0, 0, 1, 0,\n",
    "            0, 0, 0, 0, 0, 1,\n",
    "            0, 0, 1, 0, 0, 1,\n",
    "        ], dtype=np.float32)\n",
    ")\n",
    "\n",
    "# random axis\n",
    "axis_count = 20\n",
    "axis_matrices = np.eye(4, dtype=np.float32)[np.newaxis,...].repeat(axis_count, axis=0)\n",
    "axis_matrices[:,3,:3] = np.random.random([axis_count,3]) * 50\n",
    "\n",
    "\n",
    "mat_vbo = w.create_buffer_ext(\n",
    "    'ARRAY_BUFFER',\n",
    "    axis_matrices,\n",
    "    'DYNAMIC_DRAW'\n",
    ")\n",
    "\n",
    "\n",
    "axis_vao = w.create_vertex_array()\n",
    "w.bind_vertex_array(axis_vao)\n",
    "# bind the vertex buffer we want to use in this vertex array\n",
    "w.bind_buffer('ARRAY_BUFFER', axis_vbo)\n",
    "# enable and set the pointer to the attribute in the vertex array\n",
    "w.enable_vertex_attrib_array(4)\n",
    "w.vertex_attrib_pointer(4, 3, \"FLOAT\", False, 24, 0)\n",
    "w.enable_vertex_attrib_array(5)\n",
    "w.vertex_attrib_pointer(5, 3, \"FLOAT\", False, 24, 12)\n",
    "\n",
    "# bind the matrix buffer\n",
    "w.bind_buffer('ARRAY_BUFFER', mat_vbo)\n",
    "# bind all 4 vec4 of the mat4 attribute\n",
    "w.enable_vertex_attrib_array(0)\n",
    "w.vertex_attrib_pointer(0, 4, \"FLOAT\", False, 64, 0)\n",
    "w.vertex_attrib_divisor(0, 1)\n",
    "\n",
    "w.enable_vertex_attrib_array(1)\n",
    "w.vertex_attrib_pointer(1, 4, \"FLOAT\", False, 64, 16)\n",
    "w.vertex_attrib_divisor(1, 1)\n",
    "\n",
    "w.enable_vertex_attrib_array(2)\n",
    "w.vertex_attrib_pointer(2, 4, \"FLOAT\", False, 64, 32)\n",
    "w.vertex_attrib_divisor(2, 1)\n",
    "\n",
    "w.enable_vertex_attrib_array(3)\n",
    "w.vertex_attrib_pointer(3, 4, \"FLOAT\", False, 64, 48)\n",
    "w.vertex_attrib_divisor(3, 1)\n",
    "\n",
    "# execute binding commands\n",
    "w.execute_commands(execute_once=True)\n",
    "\n",
    "\n",
    "w.clear()\n",
    "w.use_program(axis_prog)\n",
    "w.uniform('u_scale', np.array([5.0], dtype=np.float32))\n",
    "w.bind_vertex_array(axis_vao)\n",
    "w.draw_arrays_instanced('LINES', 0, 6, axis_count)\n",
    "\n",
    "# render in loop\n",
    "w.execute_commands()\n",
    "w\n"
   ]
  },
  {
   "cell_type": "code",
   "execution_count": 16,
   "id": "3dcdb1a4-de2a-4648-9299-4664c5348e4a",
   "metadata": {},
   "outputs": [
    {
     "data": {
      "application/vnd.jupyter.widget-view+json": {
       "model_id": "5298f03d780a4720aa01f92581d4def8",
       "version_major": 2,
       "version_minor": 0
      },
      "text/plain": [
       "GLViewer(camera_pitch=-22.2, camera_pos=[107.83740683315054, 70.53246297813315, 117.6852871711563], camera_yaw…"
      ]
     },
     "execution_count": 16,
     "metadata": {},
     "output_type": "execute_result"
    }
   ],
   "source": [
    "\n",
    "line_prog = w.create_program_ext(\n",
    "'''#version 300 es\n",
    "    //the ViewBlock that is automatically filled by ipywebgl\n",
    "    layout(std140) uniform ViewBlock\n",
    "    {\n",
    "        mat4 u_cameraMatrix;          //the camera matrix in world space\n",
    "        mat4 u_viewMatrix;            //the inverse of the camera matrix\n",
    "        mat4 u_projectionMatrix;      //the projection matrix\n",
    "        mat4 u_viewProjectionMatrix;  //the projection * view matrix\n",
    "    };\n",
    "\n",
    "    uniform float u_scale;\n",
    "    in float in_vert;\n",
    "    in mat4 in_a; \n",
    "    in mat4 in_b; \n",
    "    void main() {\n",
    "        vec3 world =  mix(in_a[3].xyz, in_b[3].xyz, vec3(in_vert));\n",
    "        gl_Position = u_viewProjectionMatrix * vec4(world, 1.0);\n",
    "    }\n",
    "''',\n",
    "'''#version 300 es\n",
    "    precision highp float;\n",
    "    out vec4 f_color;\n",
    "    void main() {\n",
    "        f_color = vec4(.0,.0,.0, 1.0);\n",
    "    }\n",
    "'''\n",
    ")\n",
    "\n",
    "line_vbo = w.create_buffer_ext(\n",
    "    src_data= np.array([\n",
    "            0, 1,\n",
    "        ], dtype=np.float32)\n",
    ")\n",
    "\n",
    "line_vao = w.create_vertex_array_ext(\n",
    "    line_prog,\n",
    "    [\n",
    "        (line_vbo, '1f32', 'in_vert'),\n",
    "        (mat_vbo, '1mat4:1 1mat4:1', 'in_a', 'in_b'),\n",
    "    ]\n",
    ")\n",
    "\n",
    "w.clear()\n",
    "w.use_program(line_prog)\n",
    "w.bind_vertex_array(line_vao)\n",
    "w.draw_arrays_instanced('LINES', 0, 2, axis_count/2)\n",
    "\n",
    "# render in loop\n",
    "w.execute_commands()\n",
    "w"
   ]
  },
  {
   "cell_type": "code",
   "execution_count": 14,
   "id": "46c0576c-176d-4930-9225-82cf0f8f2a35",
   "metadata": {},
   "outputs": [
    {
     "data": {
      "application/vnd.jupyter.widget-view+json": {
       "model_id": "0955f47afe884e12bbb3875b59d9cfe0",
       "version_major": 2,
       "version_minor": 0
      },
      "text/plain": [
       "GLResourceWidget(uid=22)"
      ]
     },
     "execution_count": 14,
     "metadata": {},
     "output_type": "execute_result"
    }
   ],
   "source": [
    "w.resource(-5)"
   ]
  }
 ],
 "metadata": {
  "kernelspec": {
   "display_name": "Python 3 (ipykernel)",
   "language": "python",
   "name": "python3"
  },
  "language_info": {
   "codemirror_mode": {
    "name": "ipython",
    "version": 3
   },
   "file_extension": ".py",
   "mimetype": "text/x-python",
   "name": "python",
   "nbconvert_exporter": "python",
   "pygments_lexer": "ipython3",
   "version": "3.7.9"
  }
 },
 "nbformat": 4,
 "nbformat_minor": 5
}
