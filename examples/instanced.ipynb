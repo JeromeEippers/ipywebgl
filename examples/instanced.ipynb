{
 "cells": [
  {
   "cell_type": "markdown",
   "id": "d5382d0a-2689-4e0e-b503-f817e446b36c",
   "metadata": {},
   "source": [
    "# Instanced rendering\n",
    "\n",
    "Quick tutorial on how to use the instanced drawing in ipywebgl"
   ]
  },
  {
   "cell_type": "markdown",
   "id": "5a439511-f058-4cc1-a7c1-e0e3232770cb",
   "metadata": {},
   "source": [
    "## Create instance data\n",
    "\n",
    "First we will create a set of random matrices we want to use to render stuff."
   ]
  },
  {
   "cell_type": "code",
   "execution_count": 1,
   "id": "76f0f245-a384-4e90-aca9-adf5386a1cc2",
   "metadata": {},
   "outputs": [],
   "source": [
    "import numpy as np\n",
    "\n",
    "# random axis\n",
    "axis_count = 20\n",
    "axis_matrices = np.eye(4, dtype=np.float32)[np.newaxis,...].repeat(axis_count, axis=0)\n",
    "\n",
    "def randomize_axis():\n",
    "    #pick a position\n",
    "    axis_matrices[:,3,:3] = np.random.random([axis_count,3]) * 50\n",
    "    #make z aim away from center\n",
    "    axis_matrices[:,2,:3] = axis_matrices[:,3,:3] / np.linalg.norm(axis_matrices[:,3,:3], axis=1).reshape([axis_count,1])\n",
    "    #randomly generate x (around z)\n",
    "    axis_matrices[:,0,:3] = np.random.random([axis_count,3])\n",
    "    axis_matrices[:,0,:3] = axis_matrices[:,0,:3] - axis_matrices[:,2,:3] * np.einsum('ij,ij->i', axis_matrices[:,2,:3], axis_matrices[:,0,:3])[..., np.newaxis]\n",
    "    axis_matrices[:,0,:3] /= np.linalg.norm(axis_matrices[:,0,:3], axis=1).reshape([axis_count,1])\n",
    "    #create y\n",
    "    axis_matrices[:,1,:3] = np.cross(axis_matrices[:,2,:3], axis_matrices[:,0,:3])\n",
    "randomize_axis()\n"
   ]
  },
  {
   "cell_type": "markdown",
   "id": "68701a8a-0627-4e52-a989-b6ff10ca48df",
   "metadata": {},
   "source": [
    "## Create the viewer"
   ]
  },
  {
   "cell_type": "code",
   "execution_count": 2,
   "id": "06c979c1-9dcc-459d-8488-8669e4ba6f78",
   "metadata": {},
   "outputs": [],
   "source": [
    "import ipywebgl\n",
    "\n",
    "w = ipywebgl.GLViewer()\n",
    "w.clear_color(.8, .8, .8 ,1)\n",
    "w.clear()\n",
    "w.enable(depth_test=True)\n",
    "w.execute_commands(execute_once=True)\n"
   ]
  },
  {
   "cell_type": "markdown",
   "id": "706e9bb1-b300-45f8-9b6c-ce91d771ec08",
   "metadata": {},
   "source": [
    "### Create the matrices buffer\n",
    "We create the buffer that will holds the matrices and set it as dynamic.  This is to let opengl knows that we will update it frequently"
   ]
  },
  {
   "cell_type": "code",
   "execution_count": 3,
   "id": "7825a576-221e-48c4-9225-e93da03778f7",
   "metadata": {},
   "outputs": [],
   "source": [
    "mat_vbo = w.create_buffer_ext(\n",
    "    'ARRAY_BUFFER',\n",
    "    axis_matrices,\n",
    "    'DYNAMIC_DRAW'\n",
    ")"
   ]
  },
  {
   "cell_type": "markdown",
   "id": "9405dfda-72de-49c9-8b30-2417c09a5484",
   "metadata": {},
   "source": [
    "## Manual method of settings the buffers\n",
    "\n",
    "In this first example we will use raw webgl commands to create all the buffers and binding"
   ]
  },
  {
   "cell_type": "markdown",
   "id": "01ff4487-4333-4c89-b456-0f7d7ab872c0",
   "metadata": {},
   "source": [
    "### Create the program and vbo\n",
    "A transform is just in this case 3 lines aligned toward x, y, and z and colored red, green and blue\n",
    "\n",
    "In this version we will force the attributes index using the dictionary at the end of the create_program_ext method."
   ]
  },
  {
   "cell_type": "code",
   "execution_count": 4,
   "id": "df24e242-f9b4-40ca-8dd4-50dd8b90c73b",
   "metadata": {
    "tags": []
   },
   "outputs": [],
   "source": [
    "axis_prog = w.create_program_ext(\n",
    "'''#version 300 es\n",
    "    //the ViewBlock that is automatically filled by ipywebgl\n",
    "    layout(std140) uniform ViewBlock\n",
    "    {\n",
    "        mat4 u_cameraMatrix;          //the camera matrix in world space\n",
    "        mat4 u_viewMatrix;            //the inverse of the camera matrix\n",
    "        mat4 u_projectionMatrix;      //the projection matrix\n",
    "        mat4 u_viewProjectionMatrix;  //the projection * view matrix\n",
    "    };\n",
    "\n",
    "    uniform float u_scale;\n",
    "    in vec3 in_vert;\n",
    "    in vec3 in_color;\n",
    "    in mat4 in_world;\n",
    "    out vec3 v_color;    \n",
    "    void main() {\n",
    "        vec4 world =  in_world * vec4(in_vert * u_scale, 1.0);\n",
    "        gl_Position = u_viewProjectionMatrix * world;\n",
    "        v_color = in_color;\n",
    "    }\n",
    "''',\n",
    "'''#version 300 es\n",
    "    precision highp float;\n",
    "    in vec3 v_color;\n",
    "    out vec4 f_color;\n",
    "    void main() {\n",
    "        f_color = vec4(v_color, 1.0);\n",
    "    }\n",
    "''',\n",
    "    \n",
    "    # let's force the order of the inputs\n",
    "    # in_world is a matrix so it takes 4 consecutives attributes (0,1,2,3)\n",
    "    {\n",
    "        'in_world' : 0,\n",
    "        'in_vert' : 4,\n",
    "        'in_color' : 5,\n",
    "    })\n",
    "\n",
    "axis_vbo = w.create_buffer_ext(\n",
    "    src_data= np.array([\n",
    "            # x, y ,z red, green, blue\n",
    "            0, 0, 0, 1, 0, 0,\n",
    "            1, 0, 0, 1, 0, 0,\n",
    "            0, 0, 0, 0, 1, 0,\n",
    "            0, 1, 0, 0, 1, 0,\n",
    "            0, 0, 0, 0, 0, 1,\n",
    "            0, 0, 1, 0, 0, 1,\n",
    "        ], dtype=np.float32)\n",
    ")"
   ]
  },
  {
   "cell_type": "markdown",
   "id": "50bb7d38-f480-45da-a9dd-4889eb7ffbec",
   "metadata": {},
   "source": [
    "### Bind the attributes\n",
    "We create the vertex array and we bind all the attributes"
   ]
  },
  {
   "cell_type": "code",
   "execution_count": 5,
   "id": "c4d9b05b-50f1-41c1-afe6-01d4482d4b4c",
   "metadata": {},
   "outputs": [],
   "source": [
    "axis_vao = w.create_vertex_array()\n",
    "w.bind_vertex_array(axis_vao)\n",
    "# bind the vertex buffer we want to use in this vertex array\n",
    "w.bind_buffer('ARRAY_BUFFER', axis_vbo)\n",
    "# enable and set the pointer to the attribute in the vertex array\n",
    "w.enable_vertex_attrib_array(4)\n",
    "w.vertex_attrib_pointer(4, 3, \"FLOAT\", False, 24, 0)\n",
    "w.enable_vertex_attrib_array(5)\n",
    "w.vertex_attrib_pointer(5, 3, \"FLOAT\", False, 24, 12)\n",
    "\n",
    "# bind the matrix buffer\n",
    "w.bind_buffer('ARRAY_BUFFER', mat_vbo)\n",
    "# bind all 4 vec4 of the mat4 attribute\n",
    "w.enable_vertex_attrib_array(0)\n",
    "w.vertex_attrib_pointer(0, 4, \"FLOAT\", False, 64, 0)\n",
    "# set the divisor to tell that we must update this attribute only after each instance\n",
    "w.vertex_attrib_divisor(0, 1)\n",
    "\n",
    "w.enable_vertex_attrib_array(1)\n",
    "w.vertex_attrib_pointer(1, 4, \"FLOAT\", False, 64, 16)\n",
    "w.vertex_attrib_divisor(1, 1)\n",
    "\n",
    "w.enable_vertex_attrib_array(2)\n",
    "w.vertex_attrib_pointer(2, 4, \"FLOAT\", False, 64, 32)\n",
    "w.vertex_attrib_divisor(2, 1)\n",
    "\n",
    "w.enable_vertex_attrib_array(3)\n",
    "w.vertex_attrib_pointer(3, 4, \"FLOAT\", False, 64, 48)\n",
    "w.vertex_attrib_divisor(3, 1)\n",
    "\n",
    "w.bind_vertex_array(None)\n",
    "# execute binding commands\n",
    "w.execute_commands(execute_once=True)"
   ]
  },
  {
   "cell_type": "markdown",
   "id": "0972d78e-3020-430a-8542-fb22c97170d6",
   "metadata": {},
   "source": [
    "### Render"
   ]
  },
  {
   "cell_type": "code",
   "execution_count": 6,
   "id": "d1e884fd-6bcc-4be4-98a3-4a32133edf61",
   "metadata": {},
   "outputs": [
    {
     "data": {
      "application/vnd.jupyter.widget-view+json": {
       "model_id": "28365f6b82734ea1abdb2a9fc73a4985",
       "version_major": 2,
       "version_minor": 0
      },
      "text/plain": [
       "GLViewer(camera_pos=[0, 50, 200])"
      ]
     },
     "execution_count": 6,
     "metadata": {},
     "output_type": "execute_result"
    }
   ],
   "source": [
    "w.clear()\n",
    "w.use_program(axis_prog)\n",
    "w.uniform('u_scale', np.array([5.0], dtype=np.float32))\n",
    "w.bind_vertex_array(axis_vao)\n",
    "w.draw_arrays_instanced('LINES', 0, 6, axis_count)\n",
    "\n",
    "# render in loop\n",
    "w.execute_commands()\n",
    "w"
   ]
  },
  {
   "cell_type": "markdown",
   "id": "b6261343-1f5f-48ef-bc94-060d04213c22",
   "metadata": {},
   "source": [
    "## Extend method of setting attributes\n",
    "\n",
    "Now we will create a program that will draw a spline from a list of pair of matrices.  So we draw a line between point 1 and 2, then 3 and 4, ...\n",
    "\n",
    "For this we will not force the attribute location but we will use the extended method of creating the vao.\n",
    "\n",
    "The extended method can take the signature '1mat4:1' which means : 1 mat4 as input with a divisor set to 1."
   ]
  },
  {
   "cell_type": "code",
   "execution_count": 7,
   "id": "3dcdb1a4-de2a-4648-9299-4664c5348e4a",
   "metadata": {},
   "outputs": [],
   "source": [
    "line_prog = w.create_program_ext(\n",
    "'''#version 300 es\n",
    "    //the ViewBlock that is automatically filled by ipywebgl\n",
    "    layout(std140) uniform ViewBlock\n",
    "    {\n",
    "        mat4 u_cameraMatrix;          //the camera matrix in world space\n",
    "        mat4 u_viewMatrix;            //the inverse of the camera matrix\n",
    "        mat4 u_projectionMatrix;      //the projection matrix\n",
    "        mat4 u_viewProjectionMatrix;  //the projection * view matrix\n",
    "    };\n",
    "\n",
    "    uniform float u_scale;\n",
    "    in float in_vert;\n",
    "    in mat4 in_a; \n",
    "    in mat4 in_b; \n",
    "    void main() {\n",
    "        vec3 p0 = in_a[3].xyz;\n",
    "        vec3 p1 = (in_a * vec4(u_scale,0,0,1)).xyz;\n",
    "        vec3 p2 = (in_b * vec4(u_scale,0,0,1)).xyz;\n",
    "        vec3 p3 = in_b[3].xyz;\n",
    "        \n",
    "        vec3 p01 =  mix(p0, p1, vec3(in_vert));\n",
    "        vec3 p12 =  mix(p1, p2, vec3(in_vert));\n",
    "        vec3 p23 =  mix(p2, p3, vec3(in_vert));\n",
    "        \n",
    "        vec3 p012 =  mix(p01, p12, vec3(in_vert));\n",
    "        vec3 p123 =  mix(p12, p23, vec3(in_vert));\n",
    "        \n",
    "        vec3 p = mix(p012, p123, vec3(in_vert));\n",
    "        gl_Position = u_viewProjectionMatrix * vec4(p, 1.0);\n",
    "    }\n",
    "''',\n",
    "'''#version 300 es\n",
    "    precision highp float;\n",
    "    out vec4 f_color;\n",
    "    void main() {\n",
    "        f_color = vec4(.0,.0,.0, 1.0);\n",
    "    }\n",
    "'''\n",
    ")\n",
    "\n",
    "# spline point values (form 0 to 1)\n",
    "line_vert_count = 20\n",
    "line_vbo = w.create_buffer_ext(\n",
    "    src_data= np.linspace(0,1,line_vert_count, dtype=np.float32)\n",
    ")\n",
    "\n",
    "# create the binding automatically to the 2 buffers\n",
    "line_vao = w.create_vertex_array_ext(\n",
    "    line_prog,\n",
    "    [\n",
    "        (line_vbo, '1f32', 'in_vert'),\n",
    "        (mat_vbo, '1mat4:1 1mat4:1', 'in_a', 'in_b'),\n",
    "    ]\n",
    ")"
   ]
  },
  {
   "cell_type": "markdown",
   "id": "abdc00b4-d941-43cc-adf2-41bb1a409f97",
   "metadata": {},
   "source": [
    "### Render"
   ]
  },
  {
   "cell_type": "code",
   "execution_count": 8,
   "id": "3ae9eaab-32bf-4f1f-9865-8f33097450e0",
   "metadata": {},
   "outputs": [
    {
     "data": {
      "application/vnd.jupyter.widget-view+json": {
       "model_id": "28365f6b82734ea1abdb2a9fc73a4985",
       "version_major": 2,
       "version_minor": 0
      },
      "text/plain": [
       "GLViewer(camera_pos=[0, 50, 200])"
      ]
     },
     "execution_count": 8,
     "metadata": {},
     "output_type": "execute_result"
    }
   ],
   "source": [
    "w.clear()\n",
    "\n",
    "w.use_program(axis_prog)\n",
    "w.uniform('u_scale', np.array([5.0], dtype=np.float32))\n",
    "w.bind_vertex_array(axis_vao)\n",
    "w.draw_arrays_instanced('LINES', 0, 6, axis_count)\n",
    "\n",
    "w.use_program(line_prog)\n",
    "w.uniform('u_scale', np.array([5.0], dtype=np.float32))\n",
    "w.bind_vertex_array(line_vao)\n",
    "w.draw_arrays_instanced('LINE_STRIP', 0, line_vert_count, axis_count/2)\n",
    "\n",
    "# render in loop\n",
    "w.execute_commands()\n",
    "w"
   ]
  },
  {
   "cell_type": "markdown",
   "id": "1ba73fbc-f453-4867-b8ce-24f52ca73a46",
   "metadata": {},
   "source": [
    "## Interactive rendering\n",
    "We can use the interact function to animate the transfomrs.\n",
    "\n",
    "In this case we use the play action and we just smoothly push all the transforms into a sphere.  Then when the animation replays we randomize all the positions again."
   ]
  },
  {
   "cell_type": "code",
   "execution_count": 9,
   "id": "5305443c-9565-4447-bded-512195e49b90",
   "metadata": {},
   "outputs": [
    {
     "data": {
      "application/vnd.jupyter.widget-view+json": {
       "model_id": "f3223cda424549ce92737916cf4cb11c",
       "version_major": 2,
       "version_minor": 0
      },
      "text/plain": [
       "interactive(children=(Play(value=0, description='play', interval=50, max=50), Output()), _dom_classes=('widget…"
      ]
     },
     "metadata": {},
     "output_type": "display_data"
    },
    {
     "data": {
      "application/vnd.jupyter.widget-view+json": {
       "model_id": "28365f6b82734ea1abdb2a9fc73a4985",
       "version_major": 2,
       "version_minor": 0
      },
      "text/plain": [
       "GLViewer(camera_pos=[0, 50, 200])"
      ]
     },
     "execution_count": 9,
     "metadata": {},
     "output_type": "execute_result"
    }
   ],
   "source": [
    "from ipywidgets import widgets, interact\n",
    "\n",
    "def render(p):\n",
    "    \n",
    "    if p==0:\n",
    "        randomize_axis()\n",
    "    \n",
    "    center = np.sum(axis_matrices[:,3,:3], axis=0)/axis_count\n",
    "    for i in range(axis_count):\n",
    "        axis = axis_matrices[i,3,:3] - center\n",
    "        axis /= np.linalg.norm(axis, axis=0)\n",
    "        axis *= 50.0\n",
    "        pos = center + axis\n",
    "        axis_matrices[i,3,:3] = (pos*0.1 + axis_matrices[i,3,:3]*0.9)\n",
    "    \n",
    "    w.bind_buffer('ARRAY_BUFFER', mat_vbo)\n",
    "    w.buffer_data('ARRAY_BUFFER', axis_matrices, 'DYNAMIC_DRAW')\n",
    "    \n",
    "    w.clear()\n",
    "\n",
    "    w.use_program(axis_prog)\n",
    "    w.uniform('u_scale', np.array([5.0], dtype=np.float32))\n",
    "    w.bind_vertex_array(axis_vao)\n",
    "    w.draw_arrays_instanced('LINES', 0, 6, axis_count)\n",
    "\n",
    "    w.use_program(line_prog)\n",
    "    w.uniform('u_scale', np.array([5.0], dtype=np.float32))\n",
    "    w.bind_vertex_array(line_vao)\n",
    "    w.draw_arrays_instanced('LINE_STRIP', 0, line_vert_count, axis_count/2)\n",
    "\n",
    "    # render in loop\n",
    "    w.execute_commands()\n",
    "\n",
    "play = widgets.Play(\n",
    "    value=0,\n",
    "    min=0,\n",
    "    max=50,\n",
    "    step=1,\n",
    "    interval=50,\n",
    "    description=\"play\",\n",
    "    disabled=False\n",
    ")\n",
    "\n",
    "interact(render, p=play)\n",
    "w"
   ]
  }
 ],
 "metadata": {
  "kernelspec": {
   "display_name": "Python 3 (ipykernel)",
   "language": "python",
   "name": "python3"
  },
  "language_info": {
   "codemirror_mode": {
    "name": "ipython",
    "version": 3
   },
   "file_extension": ".py",
   "mimetype": "text/x-python",
   "name": "python",
   "nbconvert_exporter": "python",
   "pygments_lexer": "ipython3",
   "version": "3.7.9"
  }
 },
 "nbformat": 4,
 "nbformat_minor": 5
}
