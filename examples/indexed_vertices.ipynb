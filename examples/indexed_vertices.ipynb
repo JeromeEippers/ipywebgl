{
 "cells": [
  {
   "cell_type": "markdown",
   "id": "a2c3eae4-4453-4cce-8df8-84bd26a8c217",
   "metadata": {},
   "source": [
    "# Bind Index Buffer To Vao\n",
    "\n",
    "When binding an Index buffer to a Vertex Array it will create the buffer for you and populate the data."
   ]
  },
  {
   "cell_type": "markdown",
   "id": "e3085699-dc87-4abd-89ae-a01ce06a9f32",
   "metadata": {},
   "source": [
    "### Import"
   ]
  },
  {
   "cell_type": "code",
   "execution_count": 1,
   "id": "a9d3267e-3bed-4cc2-859d-c67829e6a741",
   "metadata": {},
   "outputs": [],
   "source": [
    "import ipywebgl\n",
    "import numpy as np"
   ]
  },
  {
   "cell_type": "markdown",
   "id": "f147a9b3-362b-41c2-9b49-13cc286f1435",
   "metadata": {},
   "source": [
    "### Create viewer\n",
    "And clear the color to make the background visible."
   ]
  },
  {
   "cell_type": "code",
   "execution_count": 2,
   "id": "34dd688d-7fbd-4c47-8d0f-9afa3d3f54cf",
   "metadata": {},
   "outputs": [
    {
     "data": {
      "application/vnd.jupyter.widget-view+json": {
       "model_id": "d49f6a082f5c416393d94c2f9ebe484b",
       "version_major": 2,
       "version_minor": 0
      },
      "text/plain": [
       "GLViewer(camera_pos=[0, 50, 200])"
      ]
     },
     "execution_count": 2,
     "metadata": {},
     "output_type": "execute_result"
    }
   ],
   "source": [
    "w = ipywebgl.GLViewer()\n",
    "w.clear_color(.8, .8, .8 ,1)\n",
    "w.clear()\n",
    "w.render()\n",
    "w"
   ]
  },
  {
   "cell_type": "markdown",
   "id": "519c8950-9e27-467b-a549-14f569c055a2",
   "metadata": {},
   "source": [
    "### Program\n",
    "Create the simple program to display a triangle in clip space"
   ]
  },
  {
   "cell_type": "code",
   "execution_count": 4,
   "id": "b534719b-4153-4080-b496-7ed0b72a9cee",
   "metadata": {},
   "outputs": [
    {
     "data": {
      "application/vnd.jupyter.widget-view+json": {
       "model_id": "6b9d097f8c9749d485c8cc5b5424a70e",
       "version_major": 2,
       "version_minor": 0
      },
      "text/plain": [
       "GLProgramWidget(uid=0)"
      ]
     },
     "execution_count": 4,
     "metadata": {},
     "output_type": "execute_result"
    }
   ],
   "source": [
    "pr = w.create_program()\n",
    "pr.compile(\n",
    "\"\"\"#version 300 es\n",
    "\n",
    "in vec4 in_position;\n",
    " \n",
    "void main() {\n",
    "  gl_Position = in_position;\n",
    "}\n",
    "\"\"\"\n",
    ",\n",
    "\"\"\"#version 300 es\n",
    "precision highp float;\n",
    "\n",
    "out vec4 outColor;\n",
    " \n",
    "void main() {\n",
    "  outColor = vec4(1, 0, 0.5, 1);\n",
    "}\n",
    "\"\"\"\n",
    ")\n",
    "pr"
   ]
  },
  {
   "cell_type": "markdown",
   "id": "1a837619-e3fa-4f3e-a162-bf69fcc1a11b",
   "metadata": {},
   "source": [
    "### Buffer\n",
    "Create a buffer to store the vertices values and fill it with 2d positions.\n",
    "\n",
    "The buffer has 4 vertices with X Y values (to create a quad )"
   ]
  },
  {
   "cell_type": "code",
   "execution_count": 5,
   "id": "8c5ffa6b-70c6-40a3-9130-b63298e702b3",
   "metadata": {},
   "outputs": [
    {
     "data": {
      "application/vnd.jupyter.widget-view+json": {
       "model_id": "3141ffe1511c4305b0999f39d8a64d2b",
       "version_major": 2,
       "version_minor": 0
      },
      "text/plain": [
       "GLBufferWidget(uid=0)"
      ]
     },
     "execution_count": 5,
     "metadata": {},
     "output_type": "execute_result"
    }
   ],
   "source": [
    "buf = w.create_buffer()\n",
    "buf.update(src_data=np.array(\n",
    "    [ 0, 0,\n",
    "      0, 0.5,\n",
    "      0.7, 0.5,\n",
    "      0.7, 0,\n",
    "    ], dtype=np.float32))\n",
    "buf"
   ]
  },
  {
   "cell_type": "markdown",
   "id": "8317286f-8214-4776-8f39-968aba66d80a",
   "metadata": {},
   "source": [
    "### Vertex Array\n",
    "Create a vertex array and bind the program and the buffer.\n",
    "\n",
    "* first argument is the program\n",
    "* second argument is an array of tuple with\n",
    "    * the buffer\n",
    "    * description of the attribute binding\n",
    "        *supported values are ['1','2','3','4']['i8', 'i16', 'i32', 'u8', 'u16', 'u32', 'f16', 'f32']\n",
    "    * (n times) name of the n^th attribute in the program\n",
    "    \n",
    "Then bind the index buffer to tell which vertex we want to draw.\n",
    "\n",
    "* index buffer must be of type uint16 or uint8."
   ]
  },
  {
   "cell_type": "code",
   "execution_count": 6,
   "id": "9d03b2a8-25eb-4551-826e-b38815d51ac7",
   "metadata": {},
   "outputs": [
    {
     "data": {
      "text/plain": [
       "(GLVertexArrayWidget(uid=0), GLBufferWidget(uid=1))"
      ]
     },
     "execution_count": 6,
     "metadata": {},
     "output_type": "execute_result"
    }
   ],
   "source": [
    "vao = w.create_vertex_array()\n",
    "vao.bind(pr, [(buf, \"2f32\", \"in_position\")])\n",
    "ib = vao.create_index_buffer(np.asarray([0,1,2, 2,3,0], dtype=np.uint8))\n",
    "vao, ib"
   ]
  },
  {
   "cell_type": "markdown",
   "id": "85b494d5-ba74-467e-8714-efc17531c9ae",
   "metadata": {},
   "source": [
    "### Draw\n",
    "Update the commands buffer to render that quad, and call render to send it to the frontend."
   ]
  },
  {
   "cell_type": "code",
   "execution_count": null,
   "id": "b9189676-716b-432c-bcc8-2b05e0d4ee93",
   "metadata": {},
   "outputs": [],
   "source": [
    "w.clear()\n",
    "w.use_program(pr)\n",
    "w.bind_vertex_array(vao)\n",
    "w.draw_elements('triangles', 3*2, 'uint8', 0)\n",
    "w.render()"
   ]
  }
 ],
 "metadata": {
  "kernelspec": {
   "display_name": "Python 3 (ipykernel)",
   "language": "python",
   "name": "python3"
  },
  "language_info": {
   "codemirror_mode": {
    "name": "ipython",
    "version": 3
   },
   "file_extension": ".py",
   "mimetype": "text/x-python",
   "name": "python",
   "nbconvert_exporter": "python",
   "pygments_lexer": "ipython3",
   "version": "3.7.9"
  }
 },
 "nbformat": 4,
 "nbformat_minor": 5
}
