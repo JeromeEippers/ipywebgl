{
 "cells": [
  {
   "cell_type": "markdown",
   "metadata": {},
   "source": [
    "# Introduction\n",
    "\n",
    "This module is exposing a part of the WebGL2 context.  Is is assumed that you are familiar with the concepts and commands.\n",
    "You can find more information about it here : https://webgl2fundamentals.org/\n",
    "\n",
    "There is some major differences still :\n",
    "\n",
    "- All the WebGL2 commands are called on the GLViewer instead of a gl context.\n",
    "- All the API is written in *snake_case* instead of *camelCase*, so for example ``gl.drawArrays(...)`` in JavaScript becomes ``widget.draw_arrays(...)`` in Python\n",
    "- Masks parameters are replace by positional attribute, so for example ``gl.clear(gl.DEPTH_BUFFER_BIT | gl.COLOR_BUFFER_BIT);`` in JavaScript becomes ``widget.clear(depth_buffer_bit=True, color_buffer_bit=True)`` in Python\n",
    "- Enums are replaced by strings, so for example ``gl.bufferData(gl.ARRAY_BUFFER, data, gl.DYNAMIC_DRAW);`` in JavaScript becomes ``widget.buffer_data(\"array_buffer\", data, \"dynamic_draw\")`` in Python\n",
    "- Some low level functions are replaced by helper methods. For example the compile method on the a GLProgramWidget or the bind method on the GLVerteArrayWidget class.\n",
    "\n",
    "Not all the functions are exposed as of today.\n",
    "If you need more, feel free to ask on github https://github.com/JeromeEippers/ipywebgl.\n",
    "\n",
    "All the commands you call on the GLViewer are push to a commands buffer. That commands buffer is only flushed when you call the render() method."
   ]
  },
  {
   "cell_type": "markdown",
   "metadata": {},
   "source": [
    "## Very first triangle\n",
    "\n",
    "Let's create a simple webgl renderer with a single triangle in it."
   ]
  },
  {
   "cell_type": "markdown",
   "metadata": {},
   "source": [
    "### Import\n",
    "Import the ipywebgl module and numpy"
   ]
  },
  {
   "cell_type": "code",
   "execution_count": 1,
   "metadata": {
    "tags": []
   },
   "outputs": [],
   "source": [
    "import ipywebgl\n",
    "import numpy as np"
   ]
  },
  {
   "cell_type": "markdown",
   "metadata": {},
   "source": [
    "### Viewer\n",
    "Create an instance of the viewer and change the clear color (to see the canvas) and render that change.\n"
   ]
  },
  {
   "cell_type": "code",
   "execution_count": 2,
   "metadata": {},
   "outputs": [
    {
     "data": {
      "application/vnd.jupyter.widget-view+json": {
       "model_id": "29e6ed08f9134648b04d7b273234ec76",
       "version_major": 2,
       "version_minor": 0
      },
      "text/plain": [
       "GLViewer(camera_pos=[0, 50, 200])"
      ]
     },
     "execution_count": 2,
     "metadata": {},
     "output_type": "execute_result"
    }
   ],
   "source": [
    "w = ipywebgl.GLViewer()\n",
    "w.clear_color(.8, .8, .8 ,1)\n",
    "w.clear()\n",
    "w.render()\n",
    "w"
   ]
  },
  {
   "cell_type": "markdown",
   "metadata": {},
   "source": [
    "### Program\n",
    "Create the simple program to display a triangle in clip space"
   ]
  },
  {
   "cell_type": "code",
   "execution_count": 3,
   "metadata": {},
   "outputs": [
    {
     "data": {
      "application/vnd.jupyter.widget-view+json": {
       "model_id": "371cd54c77b147c799f7c2a1b46d32a1",
       "version_major": 2,
       "version_minor": 0
      },
      "text/plain": [
       "GLProgramWidget(uid=0)"
      ]
     },
     "execution_count": 3,
     "metadata": {},
     "output_type": "execute_result"
    }
   ],
   "source": [
    "pr = w.create_program()\n",
    "pr.compile(\n",
    "\"\"\"#version 300 es\n",
    "\n",
    "in vec4 a_position;\n",
    " \n",
    "void main() {\n",
    "  gl_Position = a_position;\n",
    "}\n",
    "\"\"\"\n",
    ",\n",
    "\"\"\"#version 300 es\n",
    "precision highp float;\n",
    "\n",
    "out vec4 outColor;\n",
    " \n",
    "void main() {\n",
    "  outColor = vec4(1, 0, 0.5, 1);\n",
    "}\n",
    "\"\"\"\n",
    ")\n",
    "pr"
   ]
  },
  {
   "cell_type": "markdown",
   "metadata": {},
   "source": [
    "### Buffer\n",
    "Create a buffer to store the vertices values and fill it with 2d positions.\n",
    "\n",
    "The buffer has 3 vertices with X Y values"
   ]
  },
  {
   "cell_type": "code",
   "execution_count": 4,
   "metadata": {},
   "outputs": [
    {
     "data": {
      "application/vnd.jupyter.widget-view+json": {
       "model_id": "6d53ad3d4d90471c99259652d6f422dd",
       "version_major": 2,
       "version_minor": 0
      },
      "text/plain": [
       "GLBufferWidget(uid=0)"
      ]
     },
     "execution_count": 4,
     "metadata": {},
     "output_type": "execute_result"
    }
   ],
   "source": [
    "buf = w.create_buffer()\n",
    "buf.update(src_data=np.array(\n",
    "    [ 0, 0,\n",
    "      0, 0.5,\n",
    "      0.7, 0,\n",
    "    ], dtype=np.float32))\n",
    "buf"
   ]
  },
  {
   "cell_type": "markdown",
   "metadata": {},
   "source": [
    "### Vertex Array\n",
    "Create a vertex array and bind the program and the buffer.\n",
    "\n",
    "* first argument is the program\n",
    "* second argument is an array of tuple with\n",
    "    * the buffer\n",
    "    * description of the attribute binding\n",
    "        *supported values are ['1','2','3','4']['i8', 'i16', 'i32', 'u8', 'u16', 'u32', 'f16', 'f32']\n",
    "    * (n times) name of the n^th attribute in the program"
   ]
  },
  {
   "cell_type": "code",
   "execution_count": 5,
   "metadata": {},
   "outputs": [
    {
     "data": {
      "application/vnd.jupyter.widget-view+json": {
       "model_id": "fcabecfd882d4e50bf748fa7734caa2e",
       "version_major": 2,
       "version_minor": 0
      },
      "text/plain": [
       "GLVertexArrayWidget(uid=0)"
      ]
     },
     "execution_count": 5,
     "metadata": {},
     "output_type": "execute_result"
    }
   ],
   "source": [
    "vao = w.create_vertex_array()\n",
    "vao.bind(\n",
    "    pr, \n",
    "    [\n",
    "        (buf, \"2f32\", \"a_position\"),\n",
    "    ]\n",
    ")\n",
    "vao"
   ]
  },
  {
   "cell_type": "markdown",
   "metadata": {},
   "source": [
    "### Draw\n",
    "Update the commands buffer to render that triangle, and call render to send it to the frontend"
   ]
  },
  {
   "cell_type": "code",
   "execution_count": 6,
   "metadata": {},
   "outputs": [],
   "source": [
    "w.clear()\n",
    "w.use_program(pr)\n",
    "w.bind_vertex_array(vao)\n",
    "w.draw_arrays('triangles', 0, 3)\n",
    "w.render()"
   ]
  },
  {
   "cell_type": "markdown",
   "metadata": {},
   "source": [
    "### Move the GLViewer\n",
    "By redisplaying the viewer here we move it down here."
   ]
  },
  {
   "cell_type": "code",
   "execution_count": 7,
   "metadata": {},
   "outputs": [
    {
     "data": {
      "application/vnd.jupyter.widget-view+json": {
       "model_id": "29e6ed08f9134648b04d7b273234ec76",
       "version_major": 2,
       "version_minor": 0
      },
      "text/plain": [
       "GLViewer(camera_pos=[0, 50, 200])"
      ]
     },
     "execution_count": 7,
     "metadata": {},
     "output_type": "execute_result"
    }
   ],
   "source": [
    "w"
   ]
  },
  {
   "cell_type": "markdown",
   "metadata": {},
   "source": [
    "## Uniform\n",
    "We will update the shader to use an uniform to move the triangle around.\n",
    "\n",
    "<i>When displaying the info of the program, it doesn't show the location for the uniform yet. We only look for the location of the uniforms when we try to set them.</i>"
   ]
  },
  {
   "cell_type": "code",
   "execution_count": 8,
   "metadata": {},
   "outputs": [
    {
     "data": {
      "application/vnd.jupyter.widget-view+json": {
       "model_id": "371cd54c77b147c799f7c2a1b46d32a1",
       "version_major": 2,
       "version_minor": 0
      },
      "text/plain": [
       "GLProgramWidget(uid=0)"
      ]
     },
     "execution_count": 8,
     "metadata": {},
     "output_type": "execute_result"
    }
   ],
   "source": [
    "pr.compile(\n",
    "\"\"\"#version 300 es\n",
    "in vec4 a_position;\n",
    "uniform vec2 u_pos;\n",
    "\n",
    "void main() {\n",
    "  gl_Position = a_position + vec4(u_pos,0,0);\n",
    "}\n",
    "\"\"\"\n",
    ",\n",
    "\"\"\"#version 300 es\n",
    "precision highp float;\n",
    " \n",
    "out vec4 outColor;\n",
    " \n",
    "void main() {\n",
    "  outColor = vec4(1, 0, 0.5, 1);\n",
    "}\n",
    "\"\"\"\n",
    ")\n",
    "pr"
   ]
  },
  {
   "cell_type": "markdown",
   "metadata": {},
   "source": [
    "### Render\n",
    "Change the commands buffer to render the program with the uniform now."
   ]
  },
  {
   "cell_type": "code",
   "execution_count": 9,
   "metadata": {},
   "outputs": [],
   "source": [
    "w.clear()\n",
    "w.use_program(pr)\n",
    "w.set_uniform('u_pos', np.asarray([0.5,0.5], dtype=np.float32))\n",
    "w.bind_vertex_array(vao)\n",
    "w.draw_arrays('triangles', 0, 3)\n",
    "w.render()"
   ]
  },
  {
   "cell_type": "markdown",
   "metadata": {},
   "source": [
    "Displaying the program now, will show the uniform location info"
   ]
  },
  {
   "cell_type": "code",
   "execution_count": 10,
   "metadata": {},
   "outputs": [
    {
     "data": {
      "application/vnd.jupyter.widget-view+json": {
       "model_id": "371cd54c77b147c799f7c2a1b46d32a1",
       "version_major": 2,
       "version_minor": 0
      },
      "text/plain": [
       "GLProgramWidget(uid=0)"
      ]
     },
     "execution_count": 10,
     "metadata": {},
     "output_type": "execute_result"
    }
   ],
   "source": [
    "pr"
   ]
  },
  {
   "cell_type": "markdown",
   "metadata": {},
   "source": [
    "## Interactive\n",
    "Let's tweak the triangle position directly in the notebook using the interact function."
   ]
  },
  {
   "cell_type": "code",
   "execution_count": 11,
   "metadata": {},
   "outputs": [
    {
     "data": {
      "application/vnd.jupyter.widget-view+json": {
       "model_id": "58100b5556e24d3ca98a989efb47d9e5",
       "version_major": 2,
       "version_minor": 0
      },
      "text/plain": [
       "interactive(children=(FloatSlider(value=0.0, description='x', max=1.0, min=-1.0, step=0.01), FloatSlider(value…"
      ]
     },
     "metadata": {},
     "output_type": "display_data"
    },
    {
     "data": {
      "application/vnd.jupyter.widget-view+json": {
       "model_id": "29e6ed08f9134648b04d7b273234ec76",
       "version_major": 2,
       "version_minor": 0
      },
      "text/plain": [
       "GLViewer(camera_pos=[0, 50, 200])"
      ]
     },
     "execution_count": 11,
     "metadata": {},
     "output_type": "execute_result"
    }
   ],
   "source": [
    "from ipywidgets import widgets, interact\n",
    "\n",
    "def move_triangle(x, y):\n",
    "    w.clear()\n",
    "    w.use_program(pr)\n",
    "    w.set_uniform('u_pos', np.asarray([x, y], dtype=np.float32))\n",
    "    w.bind_vertex_array(vao)\n",
    "    w.draw_arrays('triangles', 0, 3)\n",
    "    w.render()\n",
    "    \n",
    "interact(\n",
    "    move_triangle, \n",
    "    x=widgets.FloatSlider(min=-1, max=1, step=.01, value=0),\n",
    "    y=widgets.FloatSlider(min=-1, max=1, step=.01, value=0)\n",
    ")\n",
    "w"
   ]
  }
 ],
 "metadata": {
  "kernelspec": {
   "display_name": "Python 3 (ipykernel)",
   "language": "python",
   "name": "python3"
  },
  "language_info": {
   "codemirror_mode": {
    "name": "ipython",
    "version": 3
   },
   "file_extension": ".py",
   "mimetype": "text/x-python",
   "name": "python",
   "nbconvert_exporter": "python",
   "pygments_lexer": "ipython3",
   "version": "3.7.9"
  }
 },
 "nbformat": 4,
 "nbformat_minor": 4
}
