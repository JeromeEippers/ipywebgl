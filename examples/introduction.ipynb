{
 "cells": [
  {
   "cell_type": "markdown",
   "metadata": {},
   "source": [
    "# Introduction"
   ]
  },
  {
   "cell_type": "code",
   "execution_count": 1,
   "metadata": {
    "tags": []
   },
   "outputs": [],
   "source": [
    "import ipywebgl\n",
    "import numpy as np"
   ]
  },
  {
   "cell_type": "code",
   "execution_count": 2,
   "metadata": {},
   "outputs": [
    {
     "data": {
      "application/vnd.jupyter.widget-view+json": {
       "model_id": "4ed3ce3bf9c14ffb963ca49f5a8f3433",
       "version_major": 2,
       "version_minor": 0
      },
      "text/plain": [
       "GLViewer()"
      ]
     },
     "execution_count": 2,
     "metadata": {},
     "output_type": "execute_result"
    }
   ],
   "source": [
    "w = ipywebgl.GLViewer()\n",
    "w"
   ]
  },
  {
   "cell_type": "code",
   "execution_count": 3,
   "metadata": {},
   "outputs": [],
   "source": [
    "w.clear_color(1,0.8,1,1)\n",
    "w.clear()\n",
    "w.render()"
   ]
  },
  {
   "cell_type": "code",
   "execution_count": 4,
   "metadata": {},
   "outputs": [
    {
     "data": {
      "application/vnd.jupyter.widget-view+json": {
       "model_id": "26e8b5c2e3aa4547b9cb6b29a376a114",
       "version_major": 2,
       "version_minor": 0
      },
      "text/plain": [
       "GLProgramWidget(uid=0)"
      ]
     },
     "execution_count": 4,
     "metadata": {},
     "output_type": "execute_result"
    }
   ],
   "source": [
    "pr = w.create_program()\n",
    "pr.compile(\n",
    "\"\"\"#version 300 es\n",
    " \n",
    "// an attribute is an input (in) to a vertex shader.\n",
    "// It will receive data from a buffer\n",
    "in vec4 a_position;\n",
    " \n",
    "// all shaders have a main function\n",
    "void main() {\n",
    " \n",
    "  // gl_Position is a special variable a vertex shader\n",
    "  // is responsible for setting\n",
    "  gl_Position = a_position;\n",
    "}\n",
    "\"\"\"\n",
    ",\n",
    "\"\"\"#version 300 es\n",
    " \n",
    "// fragment shaders don't have a default precision so we need\n",
    "// to pick one. highp is a good default. It means \"high precision\"\n",
    "precision highp float;\n",
    " \n",
    "// we need to declare an output for the fragment shader\n",
    "out vec4 outColor;\n",
    " \n",
    "void main() {\n",
    "  // Just set the output to a constant reddish-purple\n",
    "  outColor = vec4(1, 0, 0.5, 1);\n",
    "}\n",
    "\"\"\"\n",
    ")\n",
    "pr"
   ]
  },
  {
   "cell_type": "code",
   "execution_count": 5,
   "metadata": {},
   "outputs": [
    {
     "data": {
      "application/vnd.jupyter.widget-view+json": {
       "model_id": "b7eec39d32974123b46b50e01ade0ac9",
       "version_major": 2,
       "version_minor": 0
      },
      "text/plain": [
       "GLBufferWidget(uid=0)"
      ]
     },
     "execution_count": 5,
     "metadata": {},
     "output_type": "execute_result"
    }
   ],
   "source": [
    "buf = w.create_buffer()\n",
    "buf.update(np.array(\n",
    "    [ 0, 0,\n",
    "      0, 0.5,\n",
    "      0.7, 0,\n",
    "    ], dtype=np.float32))\n",
    "buf"
   ]
  },
  {
   "cell_type": "code",
   "execution_count": 6,
   "metadata": {},
   "outputs": [
    {
     "data": {
      "application/vnd.jupyter.widget-view+json": {
       "model_id": "5bfef8b81e724162b48a759709463cf9",
       "version_major": 2,
       "version_minor": 0
      },
      "text/plain": [
       "GLVertexArrayWidget(uid=0)"
      ]
     },
     "execution_count": 6,
     "metadata": {},
     "output_type": "execute_result"
    }
   ],
   "source": [
    "vao = w.create_vao()\n",
    "vao.bind(\n",
    "    pr, [\n",
    "        (buf, \"2f32\", \"a_position\")\n",
    "    ]\n",
    ")\n",
    "vao"
   ]
  },
  {
   "cell_type": "code",
   "execution_count": 7,
   "metadata": {},
   "outputs": [],
   "source": [
    "w.clear()\n",
    "w.use_program(pr)\n",
    "w.bind_vao(vao)\n",
    "w.draw_arrays('triangles', 0, 3)\n",
    "w.render()"
   ]
  },
  {
   "cell_type": "code",
   "execution_count": 8,
   "metadata": {},
   "outputs": [
    {
     "data": {
      "application/vnd.jupyter.widget-view+json": {
       "model_id": "26e8b5c2e3aa4547b9cb6b29a376a114",
       "version_major": 2,
       "version_minor": 0
      },
      "text/plain": [
       "GLProgramWidget(uid=0)"
      ]
     },
     "execution_count": 8,
     "metadata": {},
     "output_type": "execute_result"
    }
   ],
   "source": [
    "pr.compile(\n",
    "\"\"\"#version 300 es\n",
    " \n",
    "// an attribute is an input (in) to a vertex shader.\n",
    "// It will receive data from a buffer\n",
    "in vec4 a_position;\n",
    "uniform vec2 u_pos;\n",
    " \n",
    "// all shaders have a main function\n",
    "void main() {\n",
    " \n",
    "  // gl_Position is a special variable a vertex shader\n",
    "  // is responsible for setting\n",
    "  gl_Position = a_position + vec4(u_pos,0,0);\n",
    "}\n",
    "\"\"\"\n",
    ",\n",
    "\"\"\"#version 300 es\n",
    " \n",
    "// fragment shaders don't have a default precision so we need\n",
    "// to pick one. highp is a good default. It means \"high precision\"\n",
    "precision highp float;\n",
    " \n",
    "// we need to declare an output for the fragment shader\n",
    "out vec4 outColor;\n",
    " \n",
    "void main() {\n",
    "  // Just set the output to a constant reddish-purple\n",
    "  outColor = vec4(1, 0, 0.5, 1);\n",
    "}\n",
    "\"\"\"\n",
    ")\n",
    "pr"
   ]
  },
  {
   "cell_type": "code",
   "execution_count": 9,
   "metadata": {},
   "outputs": [],
   "source": [
    "w.clear()\n",
    "w.use_program(pr)\n",
    "w.set_uniform('u_pos', np.asarray([0.5,0.5], dtype=np.float32))\n",
    "w.bind_vao(vao)\n",
    "w.draw_arrays('triangles', 0, 3)\n",
    "w.render()"
   ]
  },
  {
   "cell_type": "code",
   "execution_count": 10,
   "metadata": {},
   "outputs": [
    {
     "data": {
      "application/vnd.jupyter.widget-view+json": {
       "model_id": "04bfd48293a040688efc3c95c0498647",
       "version_major": 2,
       "version_minor": 0
      },
      "text/plain": [
       "GLProgramWidget(uid=1)"
      ]
     },
     "metadata": {},
     "output_type": "display_data"
    },
    {
     "data": {
      "application/vnd.jupyter.widget-view+json": {
       "model_id": "ee7767dc3999451989faffa8533eda4b",
       "version_major": 2,
       "version_minor": 0
      },
      "text/plain": [
       "GLBufferWidget(uid=1)"
      ]
     },
     "metadata": {},
     "output_type": "display_data"
    },
    {
     "data": {
      "application/vnd.jupyter.widget-view+json": {
       "model_id": "afba1c72a7df4c59ba9d412f2c58d4fc",
       "version_major": 2,
       "version_minor": 0
      },
      "text/plain": [
       "GLVertexArrayWidget(uid=1)"
      ]
     },
     "metadata": {},
     "output_type": "display_data"
    }
   ],
   "source": [
    "axis_pr = w.create_program()\n",
    "axis_pr.compile(\n",
    "\"\"\"#version 300 es\n",
    "uniform mat4 ViewProjection;\n",
    "uniform mat4 Model;\n",
    "uniform float Scale;\n",
    "in vec3 in_vert;\n",
    "in vec3 in_color;\n",
    "out vec3 v_color;    \n",
    "void main() {\n",
    "    gl_Position = vec4(in_vert * Scale, 1.0) * Model * ViewProjection;\n",
    "    v_color = in_color;\n",
    "}\n",
    "\"\"\"\n",
    ",\n",
    "\"\"\"#version 300 es\n",
    "precision highp float;\n",
    "\n",
    "in vec3 v_color;\n",
    "out vec4 f_color;\n",
    "void main() {\n",
    "    f_color = vec4(v_color, 1.0);\n",
    "}\n",
    "\"\"\"\n",
    ")\n",
    "axis_buf = w.create_buffer()\n",
    "axis_buf.update(np.array(\n",
    "    [ \n",
    "        # x, y ,z red, green, blue\n",
    "        0, 0, 0, 1, 0, 0,\n",
    "        1, 0, 0, 1, 0, 0,\n",
    "        0, 0, 0, 0, 1, 0,\n",
    "        0, 1, 0, 0, 1, 0,\n",
    "        0, 0, 0, 0, 0, 1,\n",
    "        0, 0, 1, 0, 0, 1,\n",
    "    ], dtype=np.float32))\n",
    "axis_vao = w.create_vao()\n",
    "axis_vao.bind(\n",
    "    axis_pr, [\n",
    "        (axis_buf, '3f32 3f32', 'in_vert', 'in_color')\n",
    "    ]\n",
    ")\n",
    "display(axis_pr, axis_buf, axis_vao)"
   ]
  },
  {
   "cell_type": "code",
   "execution_count": 11,
   "metadata": {},
   "outputs": [],
   "source": [
    "\n",
    "w.clear()\n",
    "w.use_program(axis_pr)\n",
    "w.set_uniform_matrix('Model', np.array([1,0,0,50, 0,1,0,0, 0,0,1,0, 0,0,0,1], dtype=np.float32).reshape([4,4]))\n",
    "w.set_uniform('Scale', np.array([100], dtype=np.float32))\n",
    "w.bind_vao(axis_vao)\n",
    "w.draw_arrays('lines', 0, 6)\n",
    "w.render()"
   ]
  },
  {
   "cell_type": "code",
   "execution_count": 12,
   "metadata": {},
   "outputs": [
    {
     "data": {
      "application/vnd.jupyter.widget-view+json": {
       "model_id": "9db3988ee1be4473abbd319b5c2f7511",
       "version_major": 2,
       "version_minor": 0
      },
      "text/plain": [
       "interactive(children=(IntSlider(value=0, description='x', min=-100), Output()), _dom_classes=('widget-interact…"
      ]
     },
     "metadata": {},
     "output_type": "display_data"
    },
    {
     "data": {
      "application/vnd.jupyter.widget-view+json": {
       "model_id": "4ed3ce3bf9c14ffb963ca49f5a8f3433",
       "version_major": 2,
       "version_minor": 0
      },
      "text/plain": [
       "GLViewer()"
      ]
     },
     "execution_count": 12,
     "metadata": {},
     "output_type": "execute_result"
    }
   ],
   "source": [
    "from ipywidgets import widgets, interact\n",
    "def move_x(x):\n",
    "    w.clear()\n",
    "    w.use_program(axis_pr)\n",
    "    w.set_uniform_matrix('Model', np.array([1,0,0,x, 0,1,0,0, 0,0,1,0, 0,0,0,1], dtype=np.float32).reshape([4,4]))\n",
    "    w.set_uniform('Scale', np.array([10], dtype=np.float32))\n",
    "    w.bind_vao(axis_vao)\n",
    "    w.draw_arrays('lines', 0, 6)\n",
    "    w.render()\n",
    "interact(move_x, x=widgets.IntSlider(min=-100, max=100, step=1, value=0))\n",
    "w"
   ]
  },
  {
   "cell_type": "code",
   "execution_count": null,
   "metadata": {},
   "outputs": [],
   "source": []
  }
 ],
 "metadata": {
  "kernelspec": {
   "display_name": "Python 3 (ipykernel)",
   "language": "python",
   "name": "python3"
  },
  "language_info": {
   "codemirror_mode": {
    "name": "ipython",
    "version": 3
   },
   "file_extension": ".py",
   "mimetype": "text/x-python",
   "name": "python",
   "nbconvert_exporter": "python",
   "pygments_lexer": "ipython3",
   "version": "3.7.9"
  }
 },
 "nbformat": 4,
 "nbformat_minor": 4
}
