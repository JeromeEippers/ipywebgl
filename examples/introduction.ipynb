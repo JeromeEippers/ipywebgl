{
 "cells": [
  {
   "cell_type": "markdown",
   "metadata": {},
   "source": [
    "# Introduction\n",
    "\n",
    "This module is exposing a part of the WebGL2 context.  Is is assumed that you are familiar with the concepts and commands.\n",
    "You can find more information about it here : https://webgl2fundamentals.org/\n",
    "\n",
    "There is some major differences still :\n",
    "\n",
    "- All the WebGL2 commands are called on the GLViewer instead of a gl context.\n",
    "- All the API is written in *snake_case* instead of *camelCase*, so for example ``gl.drawArrays(...)`` in JavaScript becomes ``widget.draw_arrays(...)`` in Python\n",
    "- Masks parameters are replaced by positional attribute, so for example ``gl.clear(gl.DEPTH_BUFFER_BIT | gl.COLOR_BUFFER_BIT);`` in JavaScript becomes ``widget.clear(depth_buffer_bit=True, color_buffer_bit=True)`` in Python\n",
    "- Enums are replaced by strings, so for example ``gl.bufferData(gl.ARRAY_BUFFER, data, gl.DYNAMIC_DRAW);`` in JavaScript becomes ``widget.buffer_data(\"ARRAY_BUFFER\", data, \"DYNAMIC_DRAW\")`` in Python\n",
    "- There is no delete functions, once something is created it stays created (we are in a prototype environment).\n",
    "- You will find some 'Extended' methods that can simplify some calls like the ``create_vertex_array_ext`` that will create and link the programs and buffers all at once.\n",
    "\n",
    "Not all the functions are exposed as of today.\n",
    "If you need more, feel free to ask on github https://github.com/JeromeEippers/ipywebgl.\n",
    "\n",
    "<b>All the commands you call on the GLViewer are push to a commands buffer. That commands buffer is only flushed when you call the execute_commands() method.</b>"
   ]
  },
  {
   "cell_type": "markdown",
   "metadata": {},
   "source": [
    "## Very first triangle\n",
    "\n",
    "Let's create a simple webgl renderer with a single triangle in it."
   ]
  },
  {
   "cell_type": "markdown",
   "metadata": {},
   "source": [
    "### Import\n",
    "Import the ipywebgl module and numpy"
   ]
  },
  {
   "cell_type": "code",
   "execution_count": 1,
   "metadata": {},
   "outputs": [],
   "source": [
    "import ipywebgl\n",
    "import numpy as np"
   ]
  },
  {
   "cell_type": "markdown",
   "metadata": {},
   "source": [
    "### Viewer\n",
    "Create an instance of the viewer and change the clear color (to see the canvas) and render that change.\n"
   ]
  },
  {
   "cell_type": "code",
   "execution_count": 2,
   "metadata": {},
   "outputs": [
    {
     "data": {
      "application/vnd.jupyter.widget-view+json": {
       "model_id": "aade8c4cea1142db8d56a21562a25789",
       "version_major": 2,
       "version_minor": 0
      },
      "text/plain": [
       "GLViewer(camera_pos=[0, 50, 200])"
      ]
     },
     "execution_count": 2,
     "metadata": {},
     "output_type": "execute_result"
    }
   ],
   "source": [
    "w = ipywebgl.GLViewer()\n",
    "w.clear_color(.8, .8, .8 ,1)\n",
    "w.clear()\n",
    "w.execute_commands()\n",
    "w"
   ]
  },
  {
   "cell_type": "markdown",
   "metadata": {},
   "source": [
    "### Program\n",
    "Create the simple program to display a triangle in clip space\n",
    "\n",
    "For this we will :\n",
    "* create a vertex shader\n",
    "* create a fragment shader\n",
    "* create a program\n",
    "* attach the shaders to the program\n",
    "* and link the program\n"
   ]
  },
  {
   "cell_type": "code",
   "execution_count": 3,
   "metadata": {},
   "outputs": [
    {
     "data": {
      "application/vnd.jupyter.widget-view+json": {
       "model_id": "52c8a3c9a8fd4d7da27693764548bbeb",
       "version_major": 2,
       "version_minor": 0
      },
      "text/plain": [
       "GLResourceWidget(uid=0)"
      ]
     },
     "execution_count": 3,
     "metadata": {},
     "output_type": "execute_result"
    }
   ],
   "source": [
    "vertex_shader = w.create_shader('VERTEX_SHADER')\n",
    "w.shader_source(vertex_shader, \n",
    "\"\"\"#version 300 es\n",
    "\n",
    "in vec4 in_position;\n",
    " \n",
    "void main() {\n",
    "  gl_Position = in_position;\n",
    "}\n",
    "\"\"\")\n",
    "w.compile_shader(vertex_shader)\n",
    "\n",
    "# execute commands so we can see if our shader compiled\n",
    "w.execute_commands(execute_once=True)\n",
    "\n",
    "#display the resource\n",
    "vertex_shader"
   ]
  },
  {
   "cell_type": "code",
   "execution_count": 4,
   "metadata": {},
   "outputs": [
    {
     "data": {
      "application/vnd.jupyter.widget-view+json": {
       "model_id": "eb4d0057d6c34516ad86c753f5c879c2",
       "version_major": 2,
       "version_minor": 0
      },
      "text/plain": [
       "GLResourceWidget(uid=1)"
      ]
     },
     "execution_count": 4,
     "metadata": {},
     "output_type": "execute_result"
    }
   ],
   "source": [
    "fragment_shader = w.create_shader('FRAGMENT_SHADER')\n",
    "w.shader_source(fragment_shader, \n",
    "\"\"\"#version 300 es\n",
    "precision highp float;\n",
    "\n",
    "out vec4 outColor;\n",
    " \n",
    "void main() {\n",
    "  outColor = vec4(1, 0, 0.5, 1);\n",
    "}\n",
    "\"\"\")\n",
    "w.compile_shader(fragment_shader)\n",
    "\n",
    "# execute commands so we can see if our shader compiled\n",
    "w.execute_commands(execute_once=True)\n",
    "\n",
    "#display the resource\n",
    "fragment_shader"
   ]
  },
  {
   "cell_type": "code",
   "execution_count": 5,
   "metadata": {},
   "outputs": [
    {
     "data": {
      "application/vnd.jupyter.widget-view+json": {
       "model_id": "e583ce6fb7e1450f9e8ce9e07950b673",
       "version_major": 2,
       "version_minor": 0
      },
      "text/plain": [
       "GLResourceWidget(uid=2)"
      ]
     },
     "execution_count": 5,
     "metadata": {},
     "output_type": "execute_result"
    }
   ],
   "source": [
    "program = w.create_program()\n",
    "w.attach_shader(program, vertex_shader)\n",
    "w.attach_shader(program, fragment_shader)\n",
    "w.link_program(program)\n",
    "\n",
    "# execute commands so we can see if our program links\n",
    "w.execute_commands(execute_once=True)\n",
    "\n",
    "#display the resource\n",
    "program"
   ]
  },
  {
   "cell_type": "markdown",
   "metadata": {},
   "source": [
    "### Buffer\n",
    "Create a buffer to store the vertices values and fill it with 2d positions.\n",
    "\n",
    "The buffer has 3 vertices with X Y values"
   ]
  },
  {
   "cell_type": "code",
   "execution_count": 6,
   "metadata": {},
   "outputs": [
    {
     "data": {
      "application/vnd.jupyter.widget-view+json": {
       "model_id": "d4306c24c36942ea84a81e1ade81b888",
       "version_major": 2,
       "version_minor": 0
      },
      "text/plain": [
       "GLResourceWidget(uid=3)"
      ]
     },
     "execution_count": 6,
     "metadata": {},
     "output_type": "execute_result"
    }
   ],
   "source": [
    "vbo = w.create_buffer()\n",
    "\n",
    "# bind the buffer and set the data in it\n",
    "w.bind_buffer('ARRAY_BUFFER', vbo)\n",
    "w.buffer_data(\n",
    "    'ARRAY_BUFFER', \n",
    "    np.array(\n",
    "        [ 0, 0,\n",
    "          0, 0.5,\n",
    "          0.7, 0,\n",
    "        ], dtype=np.float32),\n",
    "    'STATIC_DRAW',\n",
    "    update_info=True)\n",
    "\n",
    "# execute commands so we can see if the buffer is updated\n",
    "w.execute_commands(execute_once=True)\n",
    "\n",
    "#display the resource\n",
    "vbo"
   ]
  },
  {
   "cell_type": "markdown",
   "metadata": {},
   "source": [
    "### Vertex Array\n",
    "Create a vertex array and bind the program and the buffer.\n"
   ]
  },
  {
   "cell_type": "code",
   "execution_count": 7,
   "metadata": {},
   "outputs": [
    {
     "data": {
      "application/vnd.jupyter.widget-view+json": {
       "model_id": "14ec9ce42500472e984a8ce14564eaf3",
       "version_major": 2,
       "version_minor": 0
      },
      "text/plain": [
       "GLResourceWidget(uid=4)"
      ]
     },
     "execution_count": 7,
     "metadata": {},
     "output_type": "execute_result"
    }
   ],
   "source": [
    "vao = w.create_vertex_array()\n",
    "w.bind_vertex_array(vao)\n",
    "\n",
    "# use the program so we can find the attributes\n",
    "w.use_program(program)\n",
    "# bind the vertex buffer we want to use in this vertex array\n",
    "w.bind_buffer('ARRAY_BUFFER', vbo)\n",
    "# enable and set the pointer to the attribute in the vertex array\n",
    "w.enable_vertex_attrib_array('in_position')\n",
    "w.vertex_attrib_pointer('in_position', 2, \"FLOAT\", False, 2*4, 0)\n",
    "\n",
    "# execute commands so we can see if the buffer is updated\n",
    "w.execute_commands(execute_once=True)\n",
    "\n",
    "#display the resource\n",
    "vao"
   ]
  },
  {
   "cell_type": "markdown",
   "metadata": {},
   "source": [
    "### Draw\n",
    "Update the commands buffer to render that triangle, and call render to send it to the frontend"
   ]
  },
  {
   "cell_type": "code",
   "execution_count": 8,
   "metadata": {},
   "outputs": [],
   "source": [
    "w.clear()\n",
    "\n",
    "w.use_program(program)\n",
    "w.bind_vertex_array(vao)\n",
    "w.draw_arrays('TRIANGLES', 0, 3)\n",
    "\n",
    "# render in loop if needed\n",
    "w.execute_commands()"
   ]
  },
  {
   "cell_type": "markdown",
   "metadata": {},
   "source": [
    "### Move the GLViewer\n",
    "By redisplaying the viewer here we move it down here."
   ]
  },
  {
   "cell_type": "code",
   "execution_count": 9,
   "metadata": {},
   "outputs": [
    {
     "data": {
      "application/vnd.jupyter.widget-view+json": {
       "model_id": "aade8c4cea1142db8d56a21562a25789",
       "version_major": 2,
       "version_minor": 0
      },
      "text/plain": [
       "GLViewer(camera_pos=[0, 50, 200])"
      ]
     },
     "execution_count": 9,
     "metadata": {},
     "output_type": "execute_result"
    }
   ],
   "source": [
    "w"
   ]
  },
  {
   "cell_type": "markdown",
   "metadata": {},
   "source": [
    "## Uniform\n",
    "We will update the shader to use an uniform to move the triangle around.\n"
   ]
  },
  {
   "cell_type": "code",
   "execution_count": 10,
   "metadata": {},
   "outputs": [
    {
     "data": {
      "application/vnd.jupyter.widget-view+json": {
       "model_id": "e583ce6fb7e1450f9e8ce9e07950b673",
       "version_major": 2,
       "version_minor": 0
      },
      "text/plain": [
       "GLResourceWidget(uid=2)"
      ]
     },
     "execution_count": 10,
     "metadata": {},
     "output_type": "execute_result"
    }
   ],
   "source": [
    "# change the shader to use a uniform\n",
    "w.shader_source(vertex_shader, \n",
    "\"\"\"#version 300 es\n",
    "\n",
    "in vec4 in_position;\n",
    "uniform vec2 u_pos;\n",
    " \n",
    "void main() {\n",
    "  gl_Position = in_position + vec4(u_pos, 0, 0);\n",
    "}\n",
    "\"\"\")\n",
    "w.compile_shader(vertex_shader)\n",
    "\n",
    "# re link the program to also take the uniform\n",
    "w.link_program(program)\n",
    "\n",
    "# execute the commands\n",
    "w.execute_commands(execute_once=True)\n",
    "\n",
    "# display the program\n",
    "program"
   ]
  },
  {
   "cell_type": "markdown",
   "metadata": {},
   "source": [
    "### Render\n",
    "Change the commands buffer to render the program with the uniform now."
   ]
  },
  {
   "cell_type": "code",
   "execution_count": 11,
   "metadata": {},
   "outputs": [],
   "source": [
    "w.clear()\n",
    "w.use_program(program)\n",
    "w.uniform('u_pos', np.asarray([0.5,0.5], dtype=np.float32))\n",
    "w.bind_vertex_array(vao)\n",
    "w.draw_arrays('TRIANGLES', 0, 3)\n",
    "w.execute_commands()"
   ]
  },
  {
   "cell_type": "markdown",
   "metadata": {},
   "source": [
    "## Interactive\n",
    "Let's tweak the triangle position directly in the notebook using the interact function."
   ]
  },
  {
   "cell_type": "code",
   "execution_count": 12,
   "metadata": {},
   "outputs": [
    {
     "data": {
      "application/vnd.jupyter.widget-view+json": {
       "model_id": "4b6477e5e7fe4d9b860c3f681cbba947",
       "version_major": 2,
       "version_minor": 0
      },
      "text/plain": [
       "interactive(children=(FloatSlider(value=0.0, description='x', max=1.0, min=-1.0, step=0.01), FloatSlider(value…"
      ]
     },
     "metadata": {},
     "output_type": "display_data"
    },
    {
     "data": {
      "application/vnd.jupyter.widget-view+json": {
       "model_id": "aade8c4cea1142db8d56a21562a25789",
       "version_major": 2,
       "version_minor": 0
      },
      "text/plain": [
       "GLViewer(camera_pos=[0, 50, 200])"
      ]
     },
     "execution_count": 12,
     "metadata": {},
     "output_type": "execute_result"
    }
   ],
   "source": [
    "from ipywidgets import widgets, interact\n",
    "\n",
    "def move_triangle(x, y):\n",
    "    w.clear()\n",
    "    w.use_program(program)\n",
    "    w.uniform('u_pos', np.asarray([x, y], dtype=np.float32))\n",
    "    w.bind_vertex_array(vao)\n",
    "    w.draw_arrays('TRIANGLES', 0, 3)\n",
    "    w.execute_commands()\n",
    "    \n",
    "interact(\n",
    "    move_triangle, \n",
    "    x=widgets.FloatSlider(min=-1, max=1, step=.01, value=0),\n",
    "    y=widgets.FloatSlider(min=-1, max=1, step=.01, value=0)\n",
    ")\n",
    "w"
   ]
  }
 ],
 "metadata": {
  "kernelspec": {
   "display_name": "Python 3 (ipykernel)",
   "language": "python",
   "name": "python3"
  },
  "language_info": {
   "codemirror_mode": {
    "name": "ipython",
    "version": 3
   },
   "file_extension": ".py",
   "mimetype": "text/x-python",
   "name": "python",
   "nbconvert_exporter": "python",
   "pygments_lexer": "ipython3",
   "version": "3.7.9"
  },
  "vscode": {
   "interpreter": {
    "hash": "0fb548718dcc5840bd11fd69f9a2e09da49710dd26884ee4304553efc1f87ac0"
   }
  }
 },
 "nbformat": 4,
 "nbformat_minor": 4
}
